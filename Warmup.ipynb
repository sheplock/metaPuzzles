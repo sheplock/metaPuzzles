{
 "cells": [
  {
   "cell_type": "markdown",
   "id": "da90ae78",
   "metadata": {},
   "source": [
    "## [Meta Coding Puzzles](https://www.metacareers.com/profile/coding_puzzles/)\n",
    "\n",
    "Below are my solutions for the \"Warmup\" puzzles."
   ]
  },
  {
   "cell_type": "markdown",
   "id": "f2367fec",
   "metadata": {},
   "source": [
    "### ABCs\n",
    "Time limit: 5s\n",
    "\n",
    "Given three integers $A$, $B$, and $C$, determine their sum.\n",
    "Your task is to implement the function `getSum(A, B, C)` which returns the sum $A + B + C$.\n",
    "\n",
    "**Constraints**\n",
    "\n",
    "$1 \\leq A,B,C \\leq 100$\n",
    "\n",
    "**Sample test cases**\n",
    "1. $A = 1 \\\\\n",
    "B = 2 \\\\\n",
    "C = 3$\n",
    "\n",
    "&emsp;&emsp;Expected return value = 6\n",
    "\n",
    "2. $A = 100 \\\\\n",
    "B = 100 \\\\\n",
    "C = 100$\n",
    "\n",
    "&emsp;&emsp;Expected return value = 300\n",
    "\n",
    "3. $A = 85 \\\\\n",
    "B = 16 \\\\\n",
    "C = 93$\n",
    "\n",
    "&emsp;&emsp;Expected return value = 194"
   ]
  },
  {
   "cell_type": "markdown",
   "id": "c7e6910b",
   "metadata": {},
   "source": [
    "#### Solution"
   ]
  },
  {
   "cell_type": "code",
   "execution_count": 4,
   "id": "0e23f5b7",
   "metadata": {},
   "outputs": [],
   "source": [
    "# addition is built-in so I can just have a function return the sum\n",
    "def getSum(A: int, B: int, C: int) -> int:\n",
    "  return A + B + C"
   ]
  },
  {
   "cell_type": "code",
   "execution_count": 2,
   "id": "52a2da93",
   "metadata": {},
   "outputs": [
    {
     "name": "stdout",
     "output_type": "stream",
     "text": [
      "6\n",
      "300\n",
      "194\n"
     ]
    }
   ],
   "source": [
    "print(getSum(1, 2, 3))\n",
    "print(getSum(100, 100, 100))\n",
    "print(getSum(85,16,93))"
   ]
  },
  {
   "cell_type": "markdown",
   "id": "786820df",
   "metadata": {},
   "source": [
    "### All Wrong\n",
    "Time limit: 5s\n",
    "\n",
    "There's a multiple-choice test with $N$ questions, numbered from $1$ to $N$. Each question has $2$ answer options, labelled A and B. You know that the correct answer for the $i$th question is the $i$th character in the string $C$, which is either \"A\" or \"B\", but you want to get a score of 0 on this test by answering every question incorrectly.\n",
    "\n",
    "Your task is to implement the function `getWrongAnswers(N, C)` which returns a string with $N$ characters, the $i$th of which is the answer you should give for question $i$ in order to get it wrong (either \"A\" or \"B\").\n",
    "\n",
    "**Constraints**\n",
    "\n",
    "$ 1 \\leq N \\leq 100 \\\\\n",
    "C_i \\in {\"A\", \"B\"}$\n",
    "\n",
    "**Sample test cases**\n",
    "1. $N = 3 \\\\\n",
    "C = ABA$\n",
    "\n",
    "&emsp;&emsp;Expected return value = BAB\n",
    "\n",
    "2. $N = 5 \\\\\n",
    "C = BBBBB$\n",
    "\n",
    "&emsp;&emsp;Expected return value = AAAA"
   ]
  },
  {
   "cell_type": "markdown",
   "id": "c00915c1",
   "metadata": {},
   "source": [
    "#### Solution\n",
    "\n",
    "Here, I want essentially a bit-flip for bits \"A\" and \"B\". With list comprehension I could do this for lists, but I want the output to be a string. A similar result can be achieved using the `.join()` method for strings. "
   ]
  },
  {
   "cell_type": "code",
   "execution_count": 6,
   "id": "8dfd5cf5",
   "metadata": {},
   "outputs": [],
   "source": [
    "def getWrongAnswers(N: int, C: str) -> str:\n",
    "    # join() will combine all string elements\n",
    "    # the _ if _ else _ construction can be used\n",
    "    # to swap 'A' for 'B' and vice versa\n",
    "    # Note: I don't actually need the N variable here\n",
    "    return ''.join('A' if x=='B' else 'B' for x in C)"
   ]
  },
  {
   "cell_type": "code",
   "execution_count": 8,
   "id": "2f0f93cb",
   "metadata": {},
   "outputs": [
    {
     "name": "stdout",
     "output_type": "stream",
     "text": [
      "BAB\n",
      "AAAAA\n"
     ]
    }
   ],
   "source": [
    "print(getWrongAnswers(3, 'ABA'))\n",
    "print(getWrongAnswers(5, 'BBBBB'))"
   ]
  },
  {
   "cell_type": "markdown",
   "id": "cbefbef6",
   "metadata": {},
   "source": [
    "### Battleship\n",
    "Time limit: 5s\n",
    "\n",
    "You're playing Battleship on a grid of cells with $R$ rows and $C$ columns. There are 0 or more battleships on the grid, each occupying a single distinct cell. The cell in the $i$th row from the top and $j$th column from the left either contains a battleship ($G_{i,j} = 1$) or doesn't ($G_{i,j} = 0$).\n",
    "\n",
    "You're going to fire a single shot at a random cell in the grid. You'll choose this cell uniformly at random from the $R∗C$ possible cells. You're interested in the probability that the cell hit by your shot contains a battleship.\n",
    "\n",
    "Your task is to implement the function `getHitProbability(R, C, G)` which returns this probability.\n",
    "\n",
    "*Note: Your return value must have an absolute or relative error of at most $10^{-6}$ to be considered correct.*\n",
    "\n",
    "**Constraints**\n",
    "\n",
    "$1 \\leq R, C \\leq 100\\\\\n",
    "0 \\leq G_{i,j} \\leq 1$\n",
    "\n",
    "**Sample test cases**\n",
    "1. $R = 2 \\\\\n",
    "C = 3 \\\\\n",
    "G = \\begin{matrix}\n",
    "    0 & 0 &1\\\\\n",
    "    1 & 0 &1\n",
    "    \\end{matrix}$\n",
    "    \n",
    "&emsp;&emsp;Expected return value = 0.50000000\n",
    "\n",
    "2. $R = 2 \\\\\n",
    "C = 2 \\\\\n",
    "G = \\begin{matrix}\n",
    "    1 & 1 \\\\\n",
    "    1 & 1\n",
    "    \\end{matrix}$\n",
    "    \n",
    "&emsp;&emsp;Expected return value = 1.00000000"
   ]
  },
  {
   "cell_type": "markdown",
   "id": "8130465b",
   "metadata": {},
   "source": [
    "#### Solution\n",
    "\n",
    "The probability is just the fraction of entries in $G$ that are 1. The total number of battleships in $G$ is just given by the sum of all values in $G$. This can be handled by NumPy. The total number of entries in $G$ is given by $R * C$."
   ]
  },
  {
   "cell_type": "code",
   "execution_count": 9,
   "id": "4535cc42",
   "metadata": {},
   "outputs": [],
   "source": [
    "from typing import List\n",
    "import numpy as np\n",
    "\n",
    "def getHitProbability(R: int, C: int, G: List[List[int]]) -> float:\n",
    "    return np.sum(G) / (R*C)"
   ]
  },
  {
   "cell_type": "code",
   "execution_count": 10,
   "id": "c9378b58",
   "metadata": {},
   "outputs": [
    {
     "name": "stdout",
     "output_type": "stream",
     "text": [
      "0.5\n",
      "1.0\n"
     ]
    }
   ],
   "source": [
    "print(getHitProbability(2, 3, [[0,0,1],[1,0,1]]))\n",
    "print(getHitProbability(2, 2, [[1,1],[1,1]]))"
   ]
  }
 ],
 "metadata": {
  "kernelspec": {
   "display_name": "Python 3 (ipykernel)",
   "language": "python",
   "name": "python3"
  },
  "language_info": {
   "codemirror_mode": {
    "name": "ipython",
    "version": 3
   },
   "file_extension": ".py",
   "mimetype": "text/x-python",
   "name": "python",
   "nbconvert_exporter": "python",
   "pygments_lexer": "ipython3",
   "version": "3.9.12"
  }
 },
 "nbformat": 4,
 "nbformat_minor": 5
}
