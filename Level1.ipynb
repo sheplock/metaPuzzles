{
 "cells": [
  {
   "cell_type": "markdown",
   "id": "5cf1cf27",
   "metadata": {},
   "source": [
    "## [Meta Coding Puzzles](https://www.metacareers.com/profile/coding_puzzles/)\n",
    "\n",
    "Below are my solutions for the \"Level 1\" puzzles."
   ]
  },
  {
   "cell_type": "markdown",
   "id": "4446fa65",
   "metadata": {},
   "source": [
    "### Cafeteria\n",
    "Time limit: 5s\n",
    "\n",
    "A cafeteria table consists of a row of $N$ seats, numbered from \n",
    "$1$ to $N$ from left to right. Social distancing guidelines require that every diner be seated such that $K$ seats to their left and \n",
    "$K$ seats to their right (or all the remaining seats to that side if there are fewer than $K$) remain empty.\n",
    "\n",
    "There are currently M diners seated at the table, the $i$th of whom is in seat $S_i$. No two diners are sitting in the same seat, and the social distancing guidelines are satisfied.\n",
    "\n",
    "Determine the maximum number of additional diners who can potentially sit at the table without social distancing guidelines being violated for any new or existing diners, assuming that the existing diners cannot move and that the additional diners will cooperate to maximize how many of them can sit down.\n",
    "\n",
    "*Please take care to write a solution which runs within the time limit.*\n",
    "\n",
    "**Constraints**\n",
    "\n",
    "$ 1 \\leq N \\leq 10^{15} \\\\\n",
    "1 \\leq K \\leq N \\\\\n",
    "1 \\leq M \\leq 500{,}000 \\\\\n",
    "M \\leq N \\\\\n",
    "1 \\leq S_i \\leq N$\n",
    "\n",
    "**Sample test cases**\n",
    "1. $N = 10 \\\\\n",
    "K = 1 \\\\\n",
    "M = 2 \\\\\n",
    "S = [2, 6]$\n",
    "\n",
    "&emsp;&emsp;Expected return value = 3\n",
    "\n",
    "2. $N = 15 \\\\\n",
    "K = 2 \\\\\n",
    "M = 3 \\\\\n",
    "S = [11, 6, 14]$\n",
    "\n",
    "&emsp;&emsp;Expected return value = 1"
   ]
  },
  {
   "cell_type": "markdown",
   "id": "52a5ed3c",
   "metadata": {},
   "source": [
    "#### Solution\n",
    "\n",
    "The first thing I notice is that the upper bound on $N$ is quite large, so I know I'll have to make sure to not loop through $N$ any more than what is necessary to be able to run in the 5s time limit.\n",
    "\n",
    "$M$, the number of people currently seated is below 500,000, much below the upper bound on $N$. Looking at the test cases, I also notice that $S$ is not necessarily sorted.\n",
    "\n",
    "Here's a sketch of my approach:\n",
    "1. Sort $S$.\n",
    "2. Use division to determine how many diners can sit between $1$ and $S_1$.\n",
    "3. Use division to determine how many diners can sit between $S_M$ and $N$.\n",
    "4. Loop through the seats from $S_1$ to $S_M$ to determine how many diners can fit in between."
   ]
  },
  {
   "cell_type": "markdown",
   "id": "3c10c333",
   "metadata": {},
   "source": [
    "One thing I'm worried about is whether it's possible that I could get a different answer depending exactly how I fill the seats, whether going up or going down. I think I may be OK though because of symmetry though. For example, say there's diners at 2 and 7 with $K=1$. I could put a diner at 4 (1 open to left and 2 to right) or 5 (2 open to left and 1 to right). If the original diner is in 8 rather than 7, I can fit 2 diners in seats 4 and 6, and it doesn't matter whether I start at the left or right. If the diners are at 2 and 9, I can start at 2 going up and put diners at 4 and 6, or I can start at 9 and go down, putting diners at 7 and 5. I get different orientations but the same number of new diners. This is not a proof that I'll be OK in all situations but I can't immediately come up with a scenario counter to my intuition so I think I'm OK and I'll proceed and see if I run into any obvious issues. (Update: see paragraph below next for new approach)."
   ]
  },
  {
   "cell_type": "markdown",
   "id": "658f160a",
   "metadata": {},
   "source": [
    "Moving onto Step 2 in the above sketch. Given a diner at $S_1 \\leq S_i$ for all $i$, I want to try to fit in as many diners in the seats to the left. Rather than looping through and adding diners, one by one I can just use division to determine where diners can go. I am essentially trying to place $K + 1$ blocks into these seats (1 for the diner plus $K$ seats to one side. If everyone has $K$ seats on one side of them then the distancing requirements will be satisfied). Therefore, I just need the number of whole $K + 1$ pieces I can fit in to the $S_1 - 1$ seats. This is given by integer division, which drops the remainder. Similarly, for $S_M$, I want to fit $K + 1$ pieces into the $N - S_M$ rightmost seats. "
   ]
  },
  {
   "cell_type": "markdown",
   "id": "420defba",
   "metadata": {},
   "source": [
    "Working through that arithmetic above, I see that I can modify Step 4 above and not worry about how exactly I fill the seats. Given diners at $S_i$ and $S_{i+1}$ I can use a similar caluclation to fit $K + 1$ pieces between the diners. The one slight difference is that with $S_1$ and $S_M$, I didn't need to worry about one of the boundaries; I could put a diner at seat $1$ or $N$ without meeting the distancing requirement on that side since there were no more seats to one side. Now I need to make sure that the diners I place meet the requirements on both sides. If I just place $K + 1$ blocks between the diners, I risk accidentally putting a diner too close to $S_i$ or $S_{i+1}$. If the $K + 1$ block has the diner with $K$ empty seats to the right, I need to make sure I remove the $K$ seats to the right of $S_i$ from consideration. Similarly, if I imagine the block are a diner with $K$ seats to the left, I can't place this block within $K$ seats of $S_{i+1}$. Either way this is a subtraction of $K$ seats, i.e. I am putting $K + 1$ blocks into a set of $S_{i+1} - S_i - 1 - K$ seats. "
   ]
  },
  {
   "cell_type": "markdown",
   "id": "7aa61c4e",
   "metadata": {},
   "source": [
    "Finally, let me modify the approach:\n",
    "1. Sort $S$.\n",
    "2. Use integer division to determine how many diners can sit between $1$ and $S_1$.\n",
    "3. Use integer division to determine how many diners can sit between $S_M$ and $N$.\n",
    "4. Loop through $S$, calculating available seats $S_{i+1} - S_{i} - 1$.\n",
    "5. Use integer division to determine how many diners can fit in between $S_{i}$ and $S_{i+1}$."
   ]
  },
  {
   "cell_type": "code",
   "execution_count": 29,
   "id": "9b958933",
   "metadata": {},
   "outputs": [],
   "source": [
    "from typing import List\n",
    "# Write any import statements here\n",
    "import numpy as np\n",
    "\n",
    "def getMaxAdditionalDinersCount(N: int, K: int, M: int, S: List[int]) -> int:\n",
    "    # Write your code here\n",
    "    # want S in order from smallest to largest filled seat\n",
    "    S = np.sort(S)\n",
    "    \n",
    "    # diners will hold how many new diners we can fit\n",
    "    # first add diners that can fit in open left/right seats\n",
    "    # following explanation above\n",
    "    diners = 0\n",
    "    diners += (S[0] - 1) // (K + 1)\n",
    "    print(S[0], (S[0] - 1), K, (S[0] - 1) // (K + 1))\n",
    "    diners += (N - S[-1]) // (K + 1)\n",
    "    print(N, N - S[-1], K, \n",
    "          (N - S[-1]) // (K+1))\n",
    "    \n",
    "    # use numpy to caluclate difference between elements\n",
    "    # then do integer division as described in description above\n",
    "    # use numpy sum to get total of all new diners between other diners\n",
    "    # and add to total, then return\n",
    "    diffs = np.diff(S)\n",
    "    diffs = (diffs - 1 - K) // (K + 1)\n",
    "    print(np.sum(diffs))\n",
    "    diners += np.sum(diffs)\n",
    "    return diners"
   ]
  },
  {
   "cell_type": "code",
   "execution_count": 28,
   "id": "96c29bff",
   "metadata": {},
   "outputs": [
    {
     "name": "stdout",
     "output_type": "stream",
     "text": [
      "2 1 1 0\n",
      "10 4 1 2\n",
      "1\n",
      "3\n",
      "\n",
      "6 5 2 1\n",
      "15 1 2 0\n",
      "0\n",
      "1\n"
     ]
    }
   ],
   "source": [
    "print(getMaxAdditionalDinersCount(10, 1, 2, [2, 6]))\n",
    "print(getMaxAdditionalDinersCount(15, 2, 3, [11, 6, 14]))"
   ]
  },
  {
   "cell_type": "markdown",
   "id": "7bd7946b",
   "metadata": {},
   "source": [
    "**Result: 32/32 test cases solved**"
   ]
  },
  {
   "cell_type": "markdown",
   "id": "a062aa6f",
   "metadata": {},
   "source": [
    "### Director of Photography (Chapter 1)\n",
    "Time limit: 5s\n",
    "\n",
    "*Note: Chapter 2 is a harder version of this puzzle. The only difference is a larger constraint on $N$.* \n",
    "\n",
    "A photography set consists of N cells in a row, numbered from \n",
    "$1$ to $N$ in order, and can be represented by a string $C$ of length $N$. Each cell $i$ is one of the following types (indicated by $C_i$, the $i$th character of C):\n",
    "* If $C_i$ = “P”, it is allowed to contain a photographer\n",
    "* If $C_i$ = “A”, it is allowed to contain an actor\n",
    "* If $C_i$ = “B”, it is allowed to contain a backdrop\n",
    "* If $C_i$ = “.”, it must be left empty\n",
    "\n",
    "A *photograph* consists of a photographer, an actor, and a backdrop, such that each of them is placed in a valid cell, and such that the actor is between the photographer and the backdrop. Such a photograph is considered artistic if the distance between the photographer and the actor is between $X$ and $Y$ cells (inclusive), and the distance between the actor and the backdrop is also between $X$ and $Y$ cells (inclusive). The distance between cells $i$ and $j$ is $∣i−j∣$ (the absolute value of the difference between their indices).\n",
    "\n",
    "Determine the number of different artistic photographs which could potentially be taken at the set. Two photographs are considered different if they involve a different photographer cell, actor cell, and/or backdrop cell.\n",
    "\n",
    "**Constraints**\n",
    "\n",
    "$1 \\leq N \\leq 200 \\\\\n",
    "1 \\leq X \\leq Y \\leq N$\n",
    "\n",
    "**Sample test cases**\n",
    "1. $N = 5 \\\\\n",
    "C = APABA \\\\\n",
    "X = 1 \\\\\n",
    "Y = 2$\n",
    "\n",
    "&emsp;&emsp;Expected return value = 1\n",
    "\n",
    "2. $N = 5 \\\\\n",
    "C = APABA \\\\\n",
    "X = 2 \\\\\n",
    "Y = 3$\n",
    "\n",
    "&emsp;&emsp;Expected return value = 0\n",
    "\n",
    "3. $N = 8 \\\\\n",
    "C = \\, .PBAAP.B \\\\\n",
    "X = 1 \\\\\n",
    "Y = 3$\n",
    "\n",
    "&emsp;&emsp;Expected return value = 3"
   ]
  },
  {
   "cell_type": "markdown",
   "id": "98df01a2",
   "metadata": {},
   "source": [
    "#### Solution\n",
    "\n",
    "I believe to do this I will have to check each possible placement of $P, A, B$ to see if it is a photograph and if so, whether it is artistic. To do this, I will have 3 nested loops, over the allowed locations of each element.\n",
    "\n",
    "A sketch of my solution is as follows:\n",
    "1. Get possible locations of each element.\n",
    "2. Loop through all possible combinations of 3 elements.\n",
    "    1. For each combination, check if it satisfies requirements for a photograph.\n",
    "        1. For each photograph, check if it satisfies requirements for an artistic photograph\n",
    "3. Return number of artistic photographs."
   ]
  },
  {
   "cell_type": "code",
   "execution_count": 37,
   "id": "dfdb0470",
   "metadata": {},
   "outputs": [],
   "source": [
    "# helper function for checking whether a given orientation is a(n artistic) photograph\n",
    "# to do this, I just need to index of each element and the X and Y values\n",
    "# first I'll check for valid photograph, returning false if it is not valid\n",
    "# then I'll check for artistic photograph, returning false if it is not artistic\n",
    "# finally, if it passes all requirements, return true\n",
    "def checkArtisticPhotograph(P: int, A: int, B: int, X: int, Y: int) -> bool:\n",
    "    # check orientation, A needs to be in between P and B\n",
    "    if P < B and (A > B or A < P):\n",
    "        return False\n",
    "    elif B < P and (A < B or A > P):\n",
    "        return False\n",
    "    else:\n",
    "        # orientation valid, check for distances\n",
    "        if abs(A - P) < X or abs(A - P) > Y:\n",
    "            return False\n",
    "        elif abs(A - B) < X or abs(A - B) > Y:\n",
    "            return False\n",
    "    # passed all checks\n",
    "    return True\n",
    "\n",
    "def getArtisticPhotographCount(N: int, C: str, X: int, Y: int) -> int:\n",
    "    # list comprehension gets array of each allowed index for P, A, B\n",
    "    pVals = [True if x=='P' else False for x in C]\n",
    "    aVals = [True if x=='A' else False for x in C]\n",
    "    bVals = [True if x=='B' else False for x in C]\n",
    "    \n",
    "    # counter for artistic photographs\n",
    "    nArtisticPhotos = 0\n",
    "    \n",
    "    # now loop through all positions for P, A, B separately\n",
    "    # skip the position unless it is one of the allowed indices\n",
    "    # for each valid combination of 3, check for artistic photograph\n",
    "    for itrP in range(N):\n",
    "        if not pVals[itrP]: continue\n",
    "        for itrB in range(N):\n",
    "            if itrB==itrP: continue\n",
    "            if not bVals[itrB]: continue\n",
    "            for itrA in range(N):\n",
    "                if itrA==itrP or itrA==itrB: continue\n",
    "                if not aVals[itrA]: continue\n",
    "                if checkArtisticPhotograph(itrP, itrA, itrB, X, Y):\n",
    "                    nArtisticPhotos += 1\n",
    "    \n",
    "    return nArtisticPhotos"
   ]
  },
  {
   "cell_type": "code",
   "execution_count": 38,
   "id": "8e6a2231",
   "metadata": {},
   "outputs": [
    {
     "name": "stdout",
     "output_type": "stream",
     "text": [
      "1\n",
      "0\n",
      "3\n"
     ]
    }
   ],
   "source": [
    "print(getArtisticPhotographCount(5, 'APABA', 1, 2))\n",
    "print(getArtisticPhotographCount(5, 'APABA', 2, 3))\n",
    "print(getArtisticPhotographCount(8, '.PBAAP.B', 1, 3))"
   ]
  },
  {
   "cell_type": "markdown",
   "id": "a2301f53",
   "metadata": {},
   "source": [
    "**Result: 39/39 test cases solved**"
   ]
  },
  {
   "cell_type": "markdown",
   "id": "17a8cc0a",
   "metadata": {},
   "source": [
    "### Kaitenzushi\n",
    "Time limit: 5s\n",
    "\n",
    "There are $N$ dishes in a row on a kaiten belt, with the $i$th dish being of type $D_i$. Some dishes may be of the same type as one another.\n",
    "\n",
    "You're very hungry, but you'd also like to keep things interesting. The $N$ dishes will arrive in front of you, one after another in order, and for each one you'll eat it as long as it isn't the same type as any of the previous $K$ dishes you've eaten. You eat very fast, so you can consume a dish before the next one gets to you. Any dishes you choose not to eat as they pass will be eaten by others.\n",
    "\n",
    "Determine how many dishes you'll end up eating. \n",
    "\n",
    "*Please take care to write a solution which runs within the time limit.*\n",
    "\n",
    "**Constraints**\n",
    "\n",
    "$1 \\leq N \\leq 500{,}000 \\\\\n",
    "1 \\leq K \\leq N \\\\\n",
    "1 \\leq D_i \\leq 1{,}000{,}000$\n",
    "\n",
    "**Sample test cases**\n",
    "1. $N = 6 \\\\\n",
    "D = [1, 2, 3, 3, 2, 1] \\\\\n",
    "K = 1$\n",
    "\n",
    "&emsp;&emsp;Expected return value = 5\n",
    "\n",
    "2. $N = 6 \\\\\n",
    "D = [1, 2, 3, 3, 2, 1] \\\\\n",
    "K = 2$\n",
    "\n",
    "&emsp;&emsp;Expected return value = 4\n",
    "\n",
    "3. $N = 7 \\\\\n",
    "D = [1, 2, 1, 2, 1, 2, 1] \\\\\n",
    "K = 2$\n",
    "\n",
    "&emsp;&emsp;Expected return value = 2"
   ]
  },
  {
   "cell_type": "markdown",
   "id": "3bc2c121",
   "metadata": {},
   "source": [
    "#### Solution\n",
    "\n",
    "For this problem, I will loop through the $N$ elements of $D$ once, comparing $D_i$ to the last $K$ values in $E$, where $E$ will be a list that I use to keep track of all the dishes I eat. I'll only ever care about the last $K$ elements of $E$. If $D_i$ is not in that slice, I will eat it and I will increment my number of dishes eaten.\n",
    "\n",
    "Note, for $i$ less than $K$, there will be at most $i$ dishes eaten in $E$, so I will only have to consider $i$ elements in that list, not $K$. But since I plan on using list slices, this is handled fine by python.\n",
    "\n",
    "**Update: Correct solution below!**"
   ]
  },
  {
   "cell_type": "code",
   "execution_count": 64,
   "id": "e1e36715",
   "metadata": {},
   "outputs": [],
   "source": [
    "def getMaximumEatenDishCount(N: int, D: List[int], K: int) -> int:\n",
    "    # counter for dishes eaten\n",
    "    nDishesEaten = 0\n",
    "    # list of dishes eaten\n",
    "    E = []\n",
    "    \n",
    "    # loop through D\n",
    "    for i in range(N):\n",
    "        # for each dish, compare to the previous K eaten\n",
    "        # if current dish is in those K, skip\n",
    "        # otherwise eat and increment counter\n",
    "        if D[i] in E[-K:]:\n",
    "            continue\n",
    "        E.append(D[i])\n",
    "        nDishesEaten += 1\n",
    "    return nDishesEaten"
   ]
  },
  {
   "cell_type": "code",
   "execution_count": 58,
   "id": "db773866",
   "metadata": {},
   "outputs": [
    {
     "name": "stdout",
     "output_type": "stream",
     "text": [
      "5\n",
      "4\n",
      "2\n"
     ]
    }
   ],
   "source": [
    "print(getMaximumEatenDishCount(6, [1,2,3,3,2,1], 1))\n",
    "print(getMaximumEatenDishCount(6, [1,2,3,3,2,1], 2))\n",
    "print(getMaximumEatenDishCount(7, [1,2,1,2,1,2,1], 2))"
   ]
  },
  {
   "cell_type": "markdown",
   "id": "37af0422",
   "metadata": {},
   "source": [
    "**Result: 32/33 test cases solved**"
   ]
  },
  {
   "cell_type": "markdown",
   "id": "6d26aa16",
   "metadata": {},
   "source": [
    "**Update**: Above code failed on 1 test case due to exceeding the 5s time limit. I'll try to reproduce below. I can assume that it was in an extreme case with large $N$, $K$, many different values in $D$, large $E$, etc."
   ]
  },
  {
   "cell_type": "code",
   "execution_count": 75,
   "id": "41c2cc9f",
   "metadata": {},
   "outputs": [],
   "source": [
    "import time"
   ]
  },
  {
   "cell_type": "code",
   "execution_count": null,
   "id": "d6c46b29",
   "metadata": {},
   "outputs": [],
   "source": [
    "# add some time information to see how the code progresses\n",
    "def getMaximumEatenDishCount(N: int, D: List[int], K: int) -> int:\n",
    "    # counter for dishes eaten\n",
    "    nDishesEaten = 0\n",
    "    # list of dishes eaten\n",
    "    E = []\n",
    "    t1000 = time.time()\n",
    "    # loop through D\n",
    "    for i in range(N):\n",
    "        # for each dish, compare to the previous K eaten\n",
    "        # if current dish is in those K, skip\n",
    "        # otherwise eat and increment counter\n",
    "        if(i%1000==0):\n",
    "            print(i, time.time() - t1000)\n",
    "            t1000 = time.time()\n",
    "        if D[i] in E[-K:]:\n",
    "            continue\n",
    "        E.append(D[i])\n",
    "        nDishesEaten += 1\n",
    "    return nDishesEaten"
   ]
  },
  {
   "cell_type": "code",
   "execution_count": 65,
   "id": "a950a5a5",
   "metadata": {},
   "outputs": [
    {
     "name": "stdout",
     "output_type": "stream",
     "text": [
      "0 3.814697265625e-06\n",
      "1000 0.007246732711791992\n",
      "2000 0.024914026260375977\n",
      "3000 0.03595113754272461\n",
      "4000 0.04880118370056152\n",
      "5000 0.06188702583312988\n",
      "6000 0.07265615463256836\n",
      "7000 0.09678506851196289\n",
      "8000 0.10460400581359863\n",
      "9000 0.13654208183288574\n",
      "10000 0.1452488899230957\n",
      "11000 0.14187884330749512\n",
      "12000 0.15868091583251953\n",
      "13000 0.3230760097503662\n",
      "14000 0.22684907913208008\n",
      "15000 0.2133798599243164\n",
      "16000 0.20519804954528809\n",
      "17000 0.21695995330810547\n",
      "18000 0.2428739070892334\n",
      "19000 0.24262714385986328\n",
      "20000 0.2614750862121582\n",
      "21000 0.3129079341888428\n",
      "22000 0.2835381031036377\n",
      "23000 0.3013150691986084\n",
      "24000 0.3232438564300537\n",
      "25000 0.3170340061187744\n",
      "26000 0.3322021961212158\n",
      "27000 0.3458528518676758\n",
      "28000 0.3589010238647461\n",
      "29000 0.3715629577636719\n",
      "30000 0.38718485832214355\n",
      "31000 0.39769577980041504\n",
      "32000 0.41466307640075684\n",
      "33000 0.5017738342285156\n",
      "34000 0.45238399505615234\n",
      "35000 0.47502684593200684\n",
      "36000 0.45968103408813477\n",
      "37000 0.47169041633605957\n",
      "38000 0.5278670787811279\n",
      "39000 0.5257980823516846\n",
      "40000 0.5586271286010742\n",
      "41000 0.596527099609375\n",
      "42000 0.6717278957366943\n",
      "43000 0.6075587272644043\n",
      "44000 0.5641758441925049\n",
      "45000 0.6148970127105713\n",
      "46000 0.6840367317199707\n",
      "47000 0.7007229328155518\n",
      "48000 0.6856799125671387\n",
      "49000 0.742833137512207\n",
      "50000 0.7477293014526367\n",
      "51000 0.8839507102966309\n",
      "52000 0.7524380683898926\n",
      "53000 0.770334005355835\n",
      "54000 0.7985022068023682\n",
      "55000 0.8228211402893066\n",
      "56000 0.9097540378570557\n",
      "57000 0.8611958026885986\n",
      "58000 0.8444981575012207\n",
      "59000 0.9229800701141357\n",
      "60000 0.9014220237731934\n",
      "61000 0.9032220840454102\n",
      "62000 0.9283750057220459\n",
      "63000 0.9634990692138672\n",
      "64000 0.8695428371429443\n",
      "65000 0.904954195022583\n",
      "66000 0.9465739727020264\n",
      "67000 0.9986460208892822\n",
      "68000 0.9655160903930664\n",
      "69000 1.0135939121246338\n",
      "70000 1.0453898906707764\n",
      "71000 1.0610020160675049\n",
      "72000 1.0760009288787842\n",
      "73000 1.047065019607544\n",
      "74000 1.0894699096679688\n",
      "75000 1.080949068069458\n",
      "76000 1.307492971420288\n",
      "77000 1.1513831615447998\n",
      "78000 1.314802885055542\n",
      "79000 1.3813879489898682\n",
      "80000 1.1299769878387451\n",
      "81000 1.1270921230316162\n",
      "82000 1.277076005935669\n",
      "83000 1.2289960384368896\n",
      "84000 1.2735099792480469\n",
      "85000 1.1985459327697754\n",
      "86000 1.2161693572998047\n",
      "87000 1.1919560432434082\n",
      "88000 1.3215348720550537\n",
      "89000 1.2866160869598389\n",
      "90000 1.2721927165985107\n",
      "91000 1.29103422164917\n",
      "92000 1.2990491390228271\n",
      "93000 1.4027771949768066\n",
      "94000 1.4407951831817627\n",
      "95000 1.3330028057098389\n",
      "96000 1.335460901260376\n",
      "97000 1.339428186416626\n",
      "98000 1.3720510005950928\n",
      "99000 1.4280121326446533\n",
      "100000 1.6316869258880615\n"
     ]
    },
    {
     "ename": "KeyboardInterrupt",
     "evalue": "",
     "output_type": "error",
     "traceback": [
      "\u001b[0;31m---------------------------------------------------------------------------\u001b[0m",
      "\u001b[0;31mKeyboardInterrupt\u001b[0m                         Traceback (most recent call last)",
      "Input \u001b[0;32mIn [65]\u001b[0m, in \u001b[0;36m<cell line: 5>\u001b[0;34m()\u001b[0m\n\u001b[1;32m      3\u001b[0m D \u001b[38;5;241m=\u001b[39m [i \u001b[38;5;28;01mfor\u001b[39;00m i \u001b[38;5;129;01min\u001b[39;00m \u001b[38;5;28mrange\u001b[39m(N)]\n\u001b[1;32m      4\u001b[0m start \u001b[38;5;241m=\u001b[39m time\u001b[38;5;241m.\u001b[39mtime()\n\u001b[0;32m----> 5\u001b[0m \u001b[38;5;28mprint\u001b[39m(\u001b[43mgetMaximumEatenDishCount\u001b[49m\u001b[43m(\u001b[49m\u001b[43mN\u001b[49m\u001b[43m,\u001b[49m\u001b[43m \u001b[49m\u001b[43mD\u001b[49m\u001b[43m,\u001b[49m\u001b[43m \u001b[49m\u001b[43mK\u001b[49m\u001b[43m)\u001b[49m)\n\u001b[1;32m      6\u001b[0m end \u001b[38;5;241m=\u001b[39m time\u001b[38;5;241m.\u001b[39mtime()\n\u001b[1;32m      7\u001b[0m \u001b[38;5;28mprint\u001b[39m(end \u001b[38;5;241m-\u001b[39m start)\n",
      "Input \u001b[0;32mIn [64]\u001b[0m, in \u001b[0;36mgetMaximumEatenDishCount\u001b[0;34m(N, D, K)\u001b[0m\n\u001b[1;32m     13\u001b[0m     \u001b[38;5;28mprint\u001b[39m(i, time\u001b[38;5;241m.\u001b[39mtime() \u001b[38;5;241m-\u001b[39m t1000)\n\u001b[1;32m     14\u001b[0m     t1000 \u001b[38;5;241m=\u001b[39m time\u001b[38;5;241m.\u001b[39mtime()\n\u001b[0;32m---> 15\u001b[0m \u001b[38;5;28;01mif\u001b[39;00m D[i] \u001b[38;5;129;01min\u001b[39;00m \u001b[43mE\u001b[49m\u001b[43m[\u001b[49m\u001b[38;5;241;43m-\u001b[39;49m\u001b[43mK\u001b[49m\u001b[43m:\u001b[49m\u001b[43m]\u001b[49m:\n\u001b[1;32m     16\u001b[0m     \u001b[38;5;28;01mcontinue\u001b[39;00m\n\u001b[1;32m     17\u001b[0m E\u001b[38;5;241m.\u001b[39mappend(D[i])\n",
      "\u001b[0;31mKeyboardInterrupt\u001b[0m: "
     ]
    }
   ],
   "source": [
    "N = 500000\n",
    "K = 500000\n",
    "D = [i for i in range(N)]\n",
    "start = time.time()\n",
    "print(getMaximumEatenDishCount(N, D, K))\n",
    "end = time.time()\n",
    "print(end - start)"
   ]
  },
  {
   "cell_type": "markdown",
   "id": "22e1d2da",
   "metadata": {},
   "source": [
    "As shown above, once I get into lists with 10s of thousands of entries, the code becomes very slow and is taking over 1 second to check 1000 dishes, so I would easily hit the 5 second time limit. I need to find a way to speed this up.\n",
    "\n",
    "I believe that looking for $D_i$ in $E$ is too slow. Perhaps performance will improve using a Set rather than a list. The problem is that since I am keeping track of the last $K$ items eaten, I need some sense of order so I can keep track of the most recent $K$. To this end, I think `OrderedDict` is what I want. There's a sense of order, so I can remove the first item, to keep only the $K$ most recent dishes eaten. But it should still have fast lookup for whether a $D_i$ is a key. The values will all be `None`."
   ]
  },
  {
   "cell_type": "code",
   "execution_count": 93,
   "id": "9b1d5767",
   "metadata": {},
   "outputs": [],
   "source": [
    "from collections import OrderedDict\n",
    "\n",
    "# add some time information to see how the code progresses\n",
    "def getMaximumEatenDishCount(N: int, D: List[int], K: int) -> int:\n",
    "    # counter for dishes eaten\n",
    "    nDishesEaten = 0\n",
    "    # list of dishes eaten as OrderedDict\n",
    "    E = OrderedDict()\n",
    "    t1000 = time.time()\n",
    "    # loop through D\n",
    "    for i in range(N):\n",
    "        # for each dish, compare to the previous K eaten\n",
    "        # which are stored as keys in OrderedDict E\n",
    "        # if current dish is in those K, skip\n",
    "        # otherwise eat and increment counter\n",
    "        # if(i%1000==0):\n",
    "        #    print(i, time.time() - t1000)\n",
    "        #    t1000 = time.time()\n",
    "        if D[i] in E:\n",
    "            continue\n",
    "        # dishes eaten stored as keys in E\n",
    "        E[D[i]] = None\n",
    "        if len(E) > K:\n",
    "            E.popitem(last=False)\n",
    "        nDishesEaten += 1\n",
    "    return nDishesEaten"
   ]
  },
  {
   "cell_type": "code",
   "execution_count": 94,
   "id": "2e46df29",
   "metadata": {},
   "outputs": [
    {
     "name": "stdout",
     "output_type": "stream",
     "text": [
      "5\n",
      "4\n",
      "2\n"
     ]
    }
   ],
   "source": [
    "print(getMaximumEatenDishCount(6, [1,2,3,3,2,1], 1))\n",
    "print(getMaximumEatenDishCount(6, [1,2,3,3,2,1], 2))\n",
    "print(getMaximumEatenDishCount(7, [1,2,1,2,1,2,1], 2))"
   ]
  },
  {
   "cell_type": "code",
   "execution_count": 95,
   "id": "b111f575",
   "metadata": {},
   "outputs": [
    {
     "name": "stdout",
     "output_type": "stream",
     "text": [
      "500000\n",
      "0.197174072265625\n"
     ]
    }
   ],
   "source": [
    "N = 500000\n",
    "K = 500000\n",
    "D = [i for i in range(N)]\n",
    "start = time.time()\n",
    "print(getMaximumEatenDishCount(N, D, K))\n",
    "end = time.time()\n",
    "print(end - start)"
   ]
  },
  {
   "cell_type": "markdown",
   "id": "cfdf93a3",
   "metadata": {},
   "source": [
    "Much better performance now!"
   ]
  },
  {
   "cell_type": "markdown",
   "id": "a402d034",
   "metadata": {},
   "source": [
    "**Result: 33/33 test cases solved**"
   ]
  },
  {
   "cell_type": "markdown",
   "id": "8825a3b4",
   "metadata": {},
   "source": [
    "### Rotary Lock (Chapter 1)\n",
    "Time limit: 5s\n",
    "\n",
    "*Note: Chapter 2 is a harder version of this puzzle.*\n",
    "\n",
    "You're trying to open a lock. The lock comes with a wheel which has the integers from $1$ to $N$ arranged in a circle in order around it (with integers $1$ and $N$ adjacent to one another). The wheel is initially pointing at 1.\n",
    "\n",
    "It takes $1$ second to rotate the wheel by $1$ unit to an adjacent integer in either direction, and it takes no time to select an integer once the wheel is pointing at it.\n",
    "\n",
    "The lock will open if you enter a certain code. The code consists of a sequence of $M$ integers, the $i$th of which is $C_i$. Determine the minimum number of seconds required to select all M of the code's integers in order.\n",
    "\n",
    "*Please take care to write a solution which runs within the time limit.*\n",
    "\n",
    "**Constraints**\n",
    "\n",
    "$ 3 \\leq N \\leq 50{,}000{,}000 \\\\\n",
    "1 \\leq M \\leq 1{,}000 \\\\\n",
    "1 \\leq C_{i} \\leq N$\n",
    "\n",
    "**Sample test cases**\n",
    "1. $N = 3 \\\\\n",
    "M = 3 \\\\\n",
    "C = [1, 2, 3]$\n",
    "\n",
    "&emsp;&emsp;Expected return value = 2\n",
    "\n",
    "2. $N = 10 \\\\\n",
    "M = 4 \\\\\n",
    "C = [9, 4, 4, 8]$\n",
    "\n",
    "&emsp;&emsp;Expected return value = 11"
   ]
  },
  {
   "cell_type": "markdown",
   "id": "142af2ec",
   "metadata": {},
   "source": [
    "#### Solution\n",
    "\n",
    "For this exercise, I need to calculate the number of rotations needed to get from one number to the next, either rotating forwards or backwards. This amounts to calculating differences modulo $N$.\n",
    "\n",
    "First, I'll work out the distance from $C_i$ to $C_{i+1}$ depending on the situation:\n",
    "1. $C_i$ < $C_{i+1}$\n",
    "    1. Forward: $C_{i+1} - C_{i}$\n",
    "    2. Backward:\n",
    "        1. $C_{i}$ to $1$: $C_{i} - 1$\n",
    "        2. $1$ to $C_{i+1}$: $N - C_{i+1} + 1$\n",
    "        3. Total: $C_i - C_{i+1} + N$\n",
    "2. $C_i$ > $C_{i+1}$\n",
    "    1. Forward: \n",
    "        1. $C_i$ to $N$: $N - C_i$\n",
    "        2. $N$ to $C_{i+1}$: $C_{i+1}$\n",
    "        3. Total: $C_{i+1} - C_{i} + N$\n",
    "    2. Backward: $C_i - C_{i+1}$"
   ]
  },
  {
   "cell_type": "markdown",
   "id": "d267e0a7",
   "metadata": {},
   "source": [
    "Take for example rotating from $1$ to $9$ on an $N = 10$ lock. If I go forward it takes $9 - 1 = 8$ seconds. If I go backward, it takes $0$ seconds to get to $1$, then $10 - 9 + 1 = 2$ seconds to get to $9$ for a total of $2$ seconds.\n",
    "\n",
    "Alternatively, if we try to get from $9$ to $8$ on the same $N = 10$ lock, it would take $1 + 8 = 9$ seconds going forward or $9 - 8 = 1$ second going backward.\n",
    "\n",
    "Finally, if we try to get from $4$ to $9$, it takes $5$ seconds going forward and backward. The point of equality is when the distance between the numbers is $N / 2$, then it doesn't matter if I go forward or backwards, it's exactly on the opposite side of the circle. For odd $N$, one direction will always be faster."
   ]
  },
  {
   "cell_type": "markdown",
   "id": "5e24e3b6",
   "metadata": {},
   "source": [
    "Now, I return to these cases and examine them using modular arithmetic:\n",
    "1. $1$ to $9$ on $N = 10$\n",
    "    1. $(9 - 1) \\bmod 10 = 8$\n",
    "    2. $(1 - 9) \\bmod 10 = 2$\n",
    "2. $9$ to $8$ on $N = 10$\n",
    "    1. $(8 - 9) \\bmod 10 = 9$\n",
    "    2. $(9 - 8) \\bmod 10 = 1$\n",
    "3. $4$ to $9$ on $N = 10$\n",
    "    1. $(9 - 4) \\bmod 10 = 5$\n",
    "    2. $(4 - 9) \\bmod 10 = 5$"
   ]
  },
  {
   "cell_type": "markdown",
   "id": "32546ce0",
   "metadata": {},
   "source": [
    "So, the fastest way between $C_{i}$ and $C_{i+1}$ is $$\\min\\big((C_i - C_{i+1})\\bmod N, (C_{i+1} - C_i) \\bmod N\\big)$$."
   ]
  },
  {
   "cell_type": "markdown",
   "id": "00d63725",
   "metadata": {},
   "source": [
    "I will attempt to answer the puzzle by computing both expressions and choosing the minimum. I will do this using numpy arrays"
   ]
  },
  {
   "cell_type": "code",
   "execution_count": 90,
   "id": "6967fcc9",
   "metadata": {},
   "outputs": [],
   "source": [
    "from typing import List\n",
    "# Write any import statements here\n",
    "import numpy as np\n",
    "\n",
    "def getMinCodeEntryTime(N: int, M: int, C: List[int]) -> int:\n",
    "    # Write your code here\n",
    "    \n",
    "    # calculate diffs c[i+1] - c[i]\n",
    "    # and c[i] - c[i+1] (just flip the sign)\n",
    "    # and take mod N\n",
    "    # need to prepend 1 since that's where we start\n",
    "    c1 = np.diff(C, prepend=1)\n",
    "    c2 = -c1\n",
    "    c1 = c1 % N\n",
    "    c2 = c2 % N\n",
    "    \n",
    "    # get minimum distance, element-wise\n",
    "    # then sum all entries to get total time\n",
    "    c3 = np.minimum(c1, c2)\n",
    "    return np.sum(c3)"
   ]
  },
  {
   "cell_type": "code",
   "execution_count": 91,
   "id": "b8e94cfa",
   "metadata": {},
   "outputs": [
    {
     "name": "stdout",
     "output_type": "stream",
     "text": [
      "2\n",
      "11\n"
     ]
    }
   ],
   "source": [
    "print(getMinCodeEntryTime(3,3,[1,2,3]))\n",
    "print(getMinCodeEntryTime(10,4,[9,4,4,8]))"
   ]
  },
  {
   "cell_type": "markdown",
   "id": "75468064",
   "metadata": {},
   "source": [
    "**Result: 32/32 test cases solved**"
   ]
  },
  {
   "cell_type": "markdown",
   "id": "5c25192c",
   "metadata": {},
   "source": [
    "### Scoreboard Inference (Chapter 1)\n",
    "Time limit: 5s\n",
    "\n",
    "*Note: Chapter 2 is a harder version of this puzzle. The only difference is a larger set of possible problem point values.*\n",
    "\n",
    "You are spectating a programming contest with $N$ competitors, each trying to independently solve the same set of programming problems. Each problem has a point value, which is **either 1 or 2**.\n",
    "\n",
    "On the scoreboard, you observe that the $i$th competitor has attained a score of $S_i$, which is a positive integer equal to the sum of the point values of all the problems they have solved.\n",
    "\n",
    "The scoreboard does not display the number of problems in the contest, nor their point values. Using the information available, you would like to determine the minimum possible number of problems in the contest.\n",
    "\n",
    "**Constraints**\n",
    "\n",
    "$ 1 \\leq N \\leq 500{,}000 \\\\\n",
    "1 \\leq S_i \\leq 1{,}000{,}000{,}000$\n",
    "\n",
    "**Sample test cases**\n",
    "1. $N = 6 \\\\\n",
    "S = [1, 2, 3, 4, 5, 6]$\n",
    "\n",
    "&emsp;&emsp;Expected return value = 4\n",
    "\n",
    "2. $N = 4 \\\\\n",
    "S = [4, 3, 3, 4]$\n",
    "\n",
    "&emsp;&emsp;Expected return value = 3\n",
    "\n",
    "3. $N = 4 \\\\\n",
    "S = [2, 4, 6, 8]$\n",
    "\n",
    "&emsp;&emsp;Expected return value = 4"
   ]
  },
  {
   "cell_type": "markdown",
   "id": "3933b85a",
   "metadata": {},
   "source": [
    "#### Solution\n",
    "\n",
    "The first thing I notice is that the upper bound on $S_i$ being $10^9$ means it's not feasible to do too much explicitly trying to make combinations of point allocations. Sample test case 3 is illustrative because it shows how dependent the problem is on factors of $2$.\n",
    "\n",
    "When all $S_i$ are even, i.e. $2m_{i}$ for some $m_i$, then the minimum number of problems is just given by the largest $m_i$. In sample test case 3, this is $4$. When there are odd numbers, there must be at least $1$ problem worth $1$ problem.\n",
    "\n",
    "Now, consider test case 1. Since there is one contestant with $6$ points, we can start with having 3 problems worth $2$ points. Then that player may have gotten all of those. This also gives us all even numbers below $6$, so we have handled $2$ and $4$. Finally, since there are players with odd values, they must have scored a $1$ point problem, so if we add one $1$ point problem we can make all odd numbers up to $7$. This gives us $4$ total problems needed.\n",
    "\n",
    "Rather than starting with 3 problems worth $2$ points we might have started with just 2. This gets us to $2$ or $4$. Adding a $1$ point problem gets us to $1$, $3$, $5$. To get to $6$ we just need one more $1$ point problem. In this scenario we need $4$ total problems as well.\n",
    "\n",
    "It doesn't matter whether we choose $m_{i}$ problems worth $2$ points plus $1$ problem worth $1$ point, or $m_{i} - 1$ problems worth $2$ points plus $2$ problems worth $1$ point. Either way, we need $m_{i} + 1$ problems to make all possible scores up to $2*m_i$.\n",
    "\n",
    "So this problem becomes solving for $m_i$."
   ]
  },
  {
   "cell_type": "markdown",
   "id": "81e8c0cc",
   "metadata": {},
   "source": [
    "Note that the previous work assumed that the largest $S_i$ was even. If it is odd, then $S_i - 1 = 2*m_j$ for some $m_j$. Then $m_j$ problems worth $2$ points gives us all even values up to $2*m_{j}$ and one $1$ point problem gives us all odd numbers up to $2*m_j + 1 = S_i$. The total problems needed is $m_j + 1$ then.\n",
    "\n",
    "So in both cases (max $S_i$ is even or odd) when there is at least 1 odd number in $S$, we need $m_j + 1$ where:\n",
    "$$ m_j = \\begin{cases}\n",
    "S_{\\max} / 2 & S_{max} \\text{ even} \\\\\n",
    "(S_{\\max} - 1) / 2 & S_{max} \\text{ odd}\n",
    "\\end{cases} $$\n",
    "where $S_{\\max} = \\max_{1 \\leq i \\leq N} S_i $.\n",
    "\n",
    "If all elements $S_i$ are even then it's just $m_j$.\n",
    "\n",
    "All we need now is just to know whether $S$ is entirely even."
   ]
  },
  {
   "cell_type": "code",
   "execution_count": 94,
   "id": "aa12f6c6",
   "metadata": {},
   "outputs": [],
   "source": [
    "from typing import List\n",
    "# Write any import statements here\n",
    "\n",
    "def getMinProblemCount(N: int, S: List[int]) -> int:\n",
    "    # get max in S\n",
    "    # m_j defined above can be calculated with integer division\n",
    "    m = max(S) // 2\n",
    "    \n",
    "    # loop through elements, checking until I find an odd\n",
    "    for itr in S:\n",
    "        if itr % 2 == 1:\n",
    "            return m + 1\n",
    "    # all elements are even\n",
    "    return m"
   ]
  },
  {
   "cell_type": "code",
   "execution_count": 95,
   "id": "11afdf0b",
   "metadata": {},
   "outputs": [
    {
     "name": "stdout",
     "output_type": "stream",
     "text": [
      "4\n",
      "3\n",
      "4\n"
     ]
    }
   ],
   "source": [
    "print(getMinProblemCount(6, [1,2,3,4,5,6]))\n",
    "print(getMinProblemCount(4, [4,3,3,4]))\n",
    "print(getMinProblemCount(4, [2,4,6,8]))"
   ]
  },
  {
   "cell_type": "markdown",
   "id": "46c38de6",
   "metadata": {},
   "source": [
    "**Result: 34/34 test cases solved**"
   ]
  },
  {
   "cell_type": "markdown",
   "id": "e8f60ed4",
   "metadata": {},
   "source": [
    "### Stack Stabilization (Chapter 1)\n",
    "Time limit: 5s\n",
    "\n",
    "*Note: Chapter 2 is a harder version of this puzzle.*\n",
    "\n",
    "There's a stack of $N$ inflatable discs, with the $i$th disc from the top having an initial radius of $R_i$ inches.\n",
    "\n",
    "The stack is considered *unstable* if it includes at least one disc whose radius is larger than or equal to that of the disc directly under it. In other words, for the stack to be stable, each disc must have a strictly smaller radius than that of the disc directly under it.\n",
    "\n",
    "As long as the stack is unstable, you can repeatedly choose any disc of your choice and deflate it down to have a radius of your choice which is strictly smaller than the disc’s prior radius. The new radius must be a positive integer number of inches.\n",
    "\n",
    "Determine the minimum number of discs which need to be deflated in order to make the stack stable, if this is possible at all. If it is impossible to stabilize the stack, return $−1$ instead.\n",
    "\n",
    "**Constraints**\n",
    "\n",
    "$ 1 \\leq N \\leq 50 \\\\\n",
    "1 \\leq R_i \\leq 1{,}000{,}000{,}000$\n",
    "\n",
    "**Sample test cases**\n",
    "1. $N = 5 \\\\\n",
    "R = [2, 5, 3, 6, 5]$\n",
    "\n",
    "&emsp;&emsp;Expected return value = 3\n",
    "\n",
    "2. $N = 3 \\\\\n",
    "R = [100, 100, 100]$\n",
    "\n",
    "&emsp;&emsp;Expected return value = 2\n",
    "\n",
    "3. $N = 4 \\\\\n",
    "R = [6, 5, 4, 3]$\n",
    "\n",
    "&emsp;&emsp;Expected return value = -1"
   ]
  },
  {
   "cell_type": "markdown",
   "id": "77d8a7c7",
   "metadata": {},
   "source": [
    "#### Solution\n",
    "\n",
    "The stack cannot be made stable if $R[-1] < N$ (since all discs are positive integer radii and there are $N$ discs, if they are stacked in order each increasing by the minimum amount of $1$, then they will range from $1$ to $N$, and $R[-1]$ needs to be largest). If I start at the end of $R$, I can check if $R[-1] < N$. Then I can check if $R[-2] < R[-1]$. If not $R[-2]$ needs to be deflated. Since discs can only be deflated, all discs need to be smaller than $R[-1]$.\n",
    "\n",
    "Repeating the same argument as above, $R[-2]$ needs to be $\\geq N - 1$. If not, then it cannot be made stable. $R[-3]$ should be smaller or deflated to be smaller than $R[-2]$ and at least $N - 2$. This goes on all the way until $R[0] = R[-N]$ which must be the smallest disc. If the stack can be iteratively made stable all the way from the bottom to top, then it is fully stable."
   ]
  },
  {
   "cell_type": "code",
   "execution_count": 13,
   "id": "c556051f",
   "metadata": {},
   "outputs": [],
   "source": [
    "from typing import List\n",
    "# Write any import statements here\n",
    "\n",
    "def getMinimumDeflatedDiscCount(N: int, R: List[int]) -> int:\n",
    "  # Write your code here\n",
    "    # counter for necessary deflations\n",
    "    nDeflated = 0\n",
    "    \n",
    "    # loop through discs from bottom to top, 1 to N\n",
    "    for i in range(1,N+1):\n",
    "        \n",
    "        # for all discs (other than the last one which has to remain as is)\n",
    "        # if it is bigger or equal to disc below it, deflate it\n",
    "        # leave it as large as possible (disc below it minus 1)\n",
    "        # to make rest of process easier\n",
    "        if i > 1:\n",
    "            if R[-i] >= R[-i+1]:\n",
    "                R[-i] = R[-i+1] - 1\n",
    "                nDeflated += 1\n",
    "                \n",
    "        # discs need to meet minimum size for their position\n",
    "        # for -1 min is N, -2 min is N - 1, for -i min is N - (i - 1)\n",
    "        # if discs are smaller than this, stack can't be stable so return -1\n",
    "        if R[-i] < (N - (i - 1)):\n",
    "            return -1\n",
    "    \n",
    "    # done looping and never ran into disc that didn't meet stability requirements\n",
    "    return nDeflated"
   ]
  },
  {
   "cell_type": "code",
   "execution_count": 15,
   "id": "fad2525c",
   "metadata": {},
   "outputs": [
    {
     "name": "stdout",
     "output_type": "stream",
     "text": [
      "3\n",
      "2\n",
      "-1\n"
     ]
    }
   ],
   "source": [
    "print(getMinimumDeflatedDiscCount(5, [2,5,3,6,5]))\n",
    "print(getMinimumDeflatedDiscCount(3, [100,100,100]))\n",
    "print(getMinimumDeflatedDiscCount(4, [6,5,4,3]))"
   ]
  },
  {
   "cell_type": "markdown",
   "id": "67c030e2",
   "metadata": {},
   "source": [
    "**Result: 33/33 test cases solved**"
   ]
  },
  {
   "cell_type": "markdown",
   "id": "174ba2d3",
   "metadata": {},
   "source": [
    "### Uniform Integers\n",
    "Time limit: 5s\n",
    "\n",
    "A positive integer is considered *uniform* if all of its digits are equal. For example, $222$ is uniform, while $223$ is not.\n",
    "Given two positive integers $A$ and $B$, determine the number of uniform integers between $A$ and $B$, inclusive.\n",
    "\n",
    "*Please take care to write a solution which runs within the time limit.*\n",
    "\n",
    "**Constraints**\n",
    "\n",
    "$1 \\leq A \\leq B \\leq 10^{12}$\n",
    "\n",
    "**Sample test cases**\n",
    "1. $A = 75 \\\\\n",
    "B = 300$\n",
    "\n",
    "&emsp;&emsp;Expected return value = 5\n",
    "\n",
    "2. $A = 1 \\\\\n",
    "B = 9$\n",
    "\n",
    "&emsp;&emsp;Expected return value = 9\n",
    "\n",
    "3. $A = 999999999999 \\\\\n",
    "B = 999999999999$\n",
    "\n",
    "&emsp;&emsp;Expected return value = 1"
   ]
  },
  {
   "cell_type": "markdown",
   "id": "3ddc62af",
   "metadata": {},
   "source": [
    "#### Solution\n",
    "\n",
    "Given the large upper bound on $A$ and $B$ and the required return, I think this problem will come down to calculating orders of magnitude between the two integers. For example, the $10^0$ order of magnitude has $9$ total uniform integers, each of the $9$ digits. Similarly, the $10^1$ order of magnitude similarly has $9$ uniform integers: $11, 22, 33, \\dots, 99$. For each entire order of magnitude spanned between $A$ and $B$, we will count $9$ uniform integers. \n",
    "\n",
    "Next, we need to consider the partial orders of magnitude. Looking at sample test case 1, since $A = 75$ is less than $77$, we pick up $3$ uniform integers in the $10^1$ order of magnitude ($77, 88, 99$). Then, since $300$ is less than $333$ we only pick up $2$ unfirorm integers from the $10^2$ order ($111, 222$). For a total of $5$.\n",
    "\n",
    "We can use integer division to get both the order of magnitude (how many times we divide by 10 before getting a single digit) and the digit in that order of magnitude (the digit left over after all divisions by 10). Then we can compare to the uniform integer at that order of magnitude with that starting digit. This will tell us how many uniform integers to count for the partial orders of magnitude.\n",
    "\n",
    "Finally, we have to consider edge cases when $A$ and $B$ are themselves uniform integers or equal to one another to make sure we account for those correctly."
   ]
  },
  {
   "cell_type": "code",
   "execution_count": 33,
   "id": "29f11276",
   "metadata": {},
   "outputs": [],
   "source": [
    "# helper function to get order of magnitude and leading digit\n",
    "# repeated integer division by 10 will remove rightmost digit\n",
    "# until we are left with just the leftmost digit\n",
    "# and the number of divisions necessary gives us the order of magnitude\n",
    "def getOrderOfMagnitudeAndDigit(N: int) -> (int, int):\n",
    "    orderOfMagnitude = 0\n",
    "    digit = N\n",
    "    while digit >= 10:\n",
    "        digit = digit // 10\n",
    "        orderOfMagnitude += 1\n",
    "    return orderOfMagnitude, digit"
   ]
  },
  {
   "cell_type": "code",
   "execution_count": 34,
   "id": "54e15e81",
   "metadata": {},
   "outputs": [
    {
     "name": "stdout",
     "output_type": "stream",
     "text": [
      "(2, 7)\n",
      "(7, 7)\n",
      "(0, 7)\n",
      "(2, 1)\n"
     ]
    }
   ],
   "source": [
    "print(getOrderOfMagnitudeAndDigit(782))\n",
    "print(getOrderOfMagnitudeAndDigit(78234500))\n",
    "print(getOrderOfMagnitudeAndDigit(7))\n",
    "print(getOrderOfMagnitudeAndDigit(100))"
   ]
  },
  {
   "cell_type": "code",
   "execution_count": 35,
   "id": "c15de38d",
   "metadata": {},
   "outputs": [],
   "source": [
    "# helper function to get uniform integer\n",
    "# for a given order of magnitude m and digit n\n",
    "# answer is integer with (m+1) digits equal to n\n",
    "def getUniformInteger(m: int, n: int) -> int:\n",
    "    ans = 0\n",
    "    for i in range(m+1):\n",
    "        ans += n*pow(10,i)\n",
    "    return ans"
   ]
  },
  {
   "cell_type": "code",
   "execution_count": 37,
   "id": "2db6734b",
   "metadata": {},
   "outputs": [
    {
     "name": "stdout",
     "output_type": "stream",
     "text": [
      "777\n",
      "77777777\n",
      "7\n",
      "111\n"
     ]
    }
   ],
   "source": [
    "print(getUniformInteger(2,7))\n",
    "print(getUniformInteger(7,7))\n",
    "print(getUniformInteger(0,7))\n",
    "print(getUniformInteger(2,1))"
   ]
  },
  {
   "cell_type": "code",
   "execution_count": 71,
   "id": "902aa3a0",
   "metadata": {},
   "outputs": [],
   "source": [
    "def getUniformIntegerCountInInterval(A: int, B: int) -> int:\n",
    "    # counter to be returned as answer\n",
    "    nUniformIntegers = 0\n",
    "    \n",
    "    # replace A, B with X, Y with\n",
    "    # X < Y always to make things easier\n",
    "    X = min(A,B)\n",
    "    Y = max(A,B)\n",
    "    \n",
    "    # get order of magnitude, leading digit for A and B\n",
    "    # get uniform digit at those magnitudes with those digits\n",
    "    # to compare for partial orders of magnitude\n",
    "    mX, nX = getOrderOfMagnitudeAndDigit(X)\n",
    "    mY, nY = getOrderOfMagnitudeAndDigit(Y)\n",
    "    xx = getUniformInteger(mX, nX)\n",
    "    yy = getUniformInteger(mY, nY)\n",
    "    \n",
    "    # each *complete* order of magnitude between numbers \n",
    "    # (happens when mY > mX + 1)\n",
    "    # gives 9 uniform integers\n",
    "    if mY > mX + 1:\n",
    "        nUniformIntegers += 9*(mY - mX - 1)\n",
    "        \n",
    "    # partial orders of magnitude depend whether mX = mY\n",
    "    # if mX = mY just that order of magnitude matters\n",
    "    # otherwise there is some partial orders of magnitude for mX and mY\n",
    "    if mX == mY:\n",
    "        # only want to count uniform integers between X, Y\n",
    "        # 9 total - those less than X - those greater than Y\n",
    "        # if X > xx, then all nX are less than X, otherwise (nX - 1)\n",
    "        # if Y < yy, then (9 - nY + 1) are greater than Y, otherwise (9 - nY)\n",
    "        tmp = 9\n",
    "        if X > xx:\n",
    "            tmp -= nX\n",
    "        else:\n",
    "            tmp -= (nX - 1)\n",
    "        if Y < yy:\n",
    "            tmp -= (9 - nY + 1)\n",
    "        else:\n",
    "            tmp -= (9 - nY)\n",
    "        nUniformIntegers += tmp\n",
    "            \n",
    "    else:\n",
    "        # for X, add uniform integers greater than X with mX\n",
    "        # for Y, add uniform integers less than Y with mY\n",
    "        if X > xx:\n",
    "            nUniformIntegers += (9 - nX)\n",
    "        else:\n",
    "            nUniformIntegers += (9 - nX + 1)\n",
    "        if Y < yy:\n",
    "            nUniformIntegers += nY - 1\n",
    "        else:\n",
    "            nUniformIntegers += nY\n",
    "            \n",
    "    return nUniformIntegers"
   ]
  },
  {
   "cell_type": "code",
   "execution_count": 74,
   "id": "c9674dc3",
   "metadata": {},
   "outputs": [
    {
     "name": "stdout",
     "output_type": "stream",
     "text": [
      "5\n",
      "9\n",
      "1\n",
      "5\n",
      "6\n",
      "6\n"
     ]
    }
   ],
   "source": [
    "print(getUniformIntegerCountInInterval(75,300))\n",
    "print(getUniformIntegerCountInInterval(1,9))\n",
    "print(getUniformIntegerCountInInterval(999999999999,999999999999))\n",
    "print(getUniformIntegerCountInInterval(77,300))\n",
    "print(getUniformIntegerCountInInterval(77,333))\n",
    "print(getUniformIntegerCountInInterval(76,333))"
   ]
  },
  {
   "cell_type": "markdown",
   "id": "97d4b149",
   "metadata": {},
   "source": [
    "**Result: 33/33 test cases solved**"
   ]
  }
 ],
 "metadata": {
  "kernelspec": {
   "display_name": "Python 3 (ipykernel)",
   "language": "python",
   "name": "python3"
  },
  "language_info": {
   "codemirror_mode": {
    "name": "ipython",
    "version": 3
   },
   "file_extension": ".py",
   "mimetype": "text/x-python",
   "name": "python",
   "nbconvert_exporter": "python",
   "pygments_lexer": "ipython3",
   "version": "3.9.12"
  }
 },
 "nbformat": 4,
 "nbformat_minor": 5
}
