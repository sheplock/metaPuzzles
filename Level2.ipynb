{
 "cells": [
  {
   "cell_type": "markdown",
   "id": "80cbb19c",
   "metadata": {},
   "source": [
    "## [Meta Coding Puzzles](https://www.metacareers.com/profile/coding_puzzles/)\n",
    "\n",
    "Below are my solutions for the \"Level 2\" puzzles."
   ]
  },
  {
   "cell_type": "markdown",
   "id": "c69796c2",
   "metadata": {},
   "source": [
    "### Director of Photography (Chapter 2)\n",
    "Time limit: 5s\n",
    "\n",
    "*Note: Chapter 1 is an easier version of this puzzle. The only difference is a smaller constraint on $N$.*\n",
    "\n",
    "A photography set consists of $N$ cells in a row, numbered from $1$ to $N$ in order, and can be represented by a string $C$ of length $N$. Each cell $i$ is one of the following types (indicated by $C_i$, the $i$th character of $C$):\n",
    "\n",
    "* If $C_i$ = “P”, it is allowed to contain a photographer\n",
    "* If $C_i$ = “A”, it is allowed to contain an actor\n",
    "* If $C_i$ = “B”, it is allowed to contain a backdrop\n",
    "* If $C_i$ = “.”, it must be left empty\n",
    "\n",
    "A photograph consists of a photographer, an actor, and a backdrop, such that each of them is placed in a valid cell, and such that the actor is between the photographer and the backdrop. Such a photograph is considered artistic if the distance between the photographer and the actor is between $X$ and $Y$ cells (inclusive), and the distance between the actor and the backdrop is also between $X$ and $Y$ cells (inclusive). The distance between cells $i$ and $j$ is $∣i−j∣$ (the absolute value of the difference between their indices).\n",
    "\n",
    "Determine the number of different artistic photographs which could potentially be taken at the set. Two photographs are considered different if they involve a different photographer cell, actor cell, and/or backdrop cell.\n",
    "\n",
    "**Constraints**\n",
    "\n",
    "$1 \\leq N \\leq 300{,}000 \\\\\n",
    "1 \\leq X \\leq Y \\leq N$\n",
    "\n",
    "**Sample test cases**\n",
    "1. $N = 5 \\\\\n",
    "C = APABA \\\\\n",
    "X = 1 \\\\\n",
    "Y = 2$\n",
    "\n",
    "&emsp;&emsp;Expected return value = 1\n",
    "\n",
    "2. $N = 5 \\\\\n",
    "C = APABA \\\\\n",
    "X = 2 \\\\\n",
    "Y = 3$\n",
    "\n",
    "&emsp;&emsp;Expected return value = 0\n",
    "\n",
    "3. $N = 8 \\\\\n",
    "C = \\, .PBAAP.B \\\\\n",
    "X = 1 \\\\\n",
    "Y = 3$\n",
    "\n",
    "&emsp;&emsp;Expected return value = 3"
   ]
  },
  {
   "cell_type": "markdown",
   "id": "451762b0",
   "metadata": {},
   "source": [
    "#### Solution\n",
    "\n",
    "Now, the upper bound on $N$ is $300{,}000$ rather than $200$. My last solution looped through $N^3$ combinations of $P,A,B$ locations, so with a large $N$ this may be too slow given the time limit. Rather than try every combination, I should be able to speed things up by looking only at values I know will be acceptable positions of each $P, A, B$. Rather than checking all $N$ entries for each, I can use `numpy.where()` to extract indices that are potential placements of each element. Since each element $C_i$ can only be one value, each index can only appear for at most one of $P, A, B$. \n",
    "\n",
    "I can also reduce the loops by using the artistic photograph conditions. For $P$ at $C_P$, $A$ at $C_A$ has to be within $[C_P - Y, C_P - X]$ or $[C_P + X, C_P + Y]$, i.e. $|C_P - C_A| \\geq X$ and $|C_P - C_A| \\leq Y$. Similarly, for $B$ at $C_B$, $|C_B - C_A| \\geq X$ and $|C_B - C_A| \\leq Y$. So, for a given $C_A$, I only have to consider a subset of possible $C_P, C_B$. Also, if $C_P > C_A$, then $C_B < C_A$ is required and vice versa.\n",
    "\n",
    "This will greatly reduce the number of times through all the loops required."
   ]
  },
  {
   "cell_type": "code",
   "execution_count": 1,
   "id": "dcaaf0aa",
   "metadata": {},
   "outputs": [],
   "source": [
    "import numpy as np"
   ]
  },
  {
   "cell_type": "code",
   "execution_count": 43,
   "id": "ad64f5fc",
   "metadata": {},
   "outputs": [],
   "source": [
    "# helper function for checking whether a given orientation is a(n artistic) photograph\n",
    "# to do this, I just need to index of each element and the X and Y values\n",
    "# first I'll check for valid photograph, returning false if it is not valid\n",
    "# then I'll check for artistic photograph, returning false if it is not artistic\n",
    "# finally, if it passes all requirements, return true\n",
    "def checkArtisticPhotograph(P: int, A: int, B: int, X: int, Y: int) -> bool:\n",
    "    # check orientation, A needs to be in between P and B\n",
    "    if P < B and (A > B or A < P):\n",
    "        return False\n",
    "    elif B < P and (A < B or A > P):\n",
    "        return False\n",
    "    else:\n",
    "        # orientation valid, check for distances\n",
    "        if abs(A - P) < X or abs(A - P) > Y:\n",
    "            return False\n",
    "        elif abs(A - B) < X or abs(A - B) > Y:\n",
    "            return False\n",
    "    # passed all checks\n",
    "    return True\n",
    "\n",
    "def getArtisticPhotographCount(N: int, C: str, X: int, Y: int) -> int:\n",
    "    tStart = time.time()\n",
    "    # list comprehension gets bool array of each allowed index for P, A, B\n",
    "    pBool = [True if x=='P' else False for x in C]\n",
    "    aBool = [True if x=='A' else False for x in C]\n",
    "    bBool = [True if x=='B' else False for x in C]\n",
    "    # numpy.where() returns indices for allowed P, A, B\n",
    "    pVals = np.where(pBool)[0]\n",
    "    aVals = np.where(aBool)[0]\n",
    "    bVals = np.where(bBool)[0]\n",
    "    \n",
    "    # counter for artistic photographs\n",
    "    nArtisticPhotos = 0\n",
    "    \n",
    "    # now loop through all positions for A, P, B separately\n",
    "    # limit search to artistic locations of P, B given A\n",
    "    # skip combinations that don't meet distance and orientation requirements\n",
    "    # increment counter if all satisfied\n",
    "    for a in aVals:\n",
    "        print('Looping for A position '+ str(a) + '. Total time elapsed = ' + str(time.time() - tStart))\n",
    "        for p in pVals:\n",
    "            if abs(p - a) < X or abs(p - a) > Y:\n",
    "                continue\n",
    "            for b in bVals:\n",
    "                if abs(b - a) < X or abs(b - a) > Y:\n",
    "                    continue\n",
    "                # skip if P, B on same side of A\n",
    "                if (p > a and b > a) or (p < a and b < a):\n",
    "                    continue\n",
    "                nArtisticPhotos += 1\n",
    "    \n",
    "    return nArtisticPhotos"
   ]
  },
  {
   "cell_type": "code",
   "execution_count": 40,
   "id": "8e0a12cb",
   "metadata": {},
   "outputs": [
    {
     "name": "stdout",
     "output_type": "stream",
     "text": [
      "1\n",
      "0\n",
      "3\n"
     ]
    }
   ],
   "source": [
    "print(getArtisticPhotographCount(5, 'APABA', 1, 2))\n",
    "print(getArtisticPhotographCount(5, 'APABA', 2, 3))\n",
    "print(getArtisticPhotographCount(8, '.PBAAP.B', 1, 3))"
   ]
  },
  {
   "cell_type": "markdown",
   "id": "a21a3302",
   "metadata": {},
   "source": [
    "The simple test cases are solved, but I need to check complex cases where $N$ is at its upper bound. I'll check how long it takes to handle such a case."
   ]
  },
  {
   "cell_type": "code",
   "execution_count": 41,
   "id": "fdac104f",
   "metadata": {},
   "outputs": [],
   "source": [
    "import time"
   ]
  },
  {
   "cell_type": "code",
   "execution_count": 42,
   "id": "25e3fa7b",
   "metadata": {},
   "outputs": [],
   "source": [
    "import random"
   ]
  },
  {
   "cell_type": "code",
   "execution_count": 44,
   "id": "749a9220",
   "metadata": {},
   "outputs": [
    {
     "name": "stdout",
     "output_type": "stream",
     "text": [
      "Looping for A position 3. Total time elapsed = 0.09955120086669922\n",
      "Looping for A position 6. Total time elapsed = 6.243028163909912\n",
      "Looping for A position 7. Total time elapsed = 11.660627126693726\n",
      "Looping for A position 11. Total time elapsed = 18.400877237319946\n"
     ]
    },
    {
     "ename": "KeyboardInterrupt",
     "evalue": "",
     "output_type": "error",
     "traceback": [
      "\u001b[0;31m---------------------------------------------------------------------------\u001b[0m",
      "\u001b[0;31mKeyboardInterrupt\u001b[0m                         Traceback (most recent call last)",
      "Input \u001b[0;32mIn [44]\u001b[0m, in \u001b[0;36m<cell line: 5>\u001b[0;34m()\u001b[0m\n\u001b[1;32m      3\u001b[0m C \u001b[38;5;241m=\u001b[39m random\u001b[38;5;241m.\u001b[39mchoices(vals, k\u001b[38;5;241m=\u001b[39mN)\n\u001b[1;32m      4\u001b[0m tStart \u001b[38;5;241m=\u001b[39m time\u001b[38;5;241m.\u001b[39mtime()\n\u001b[0;32m----> 5\u001b[0m \u001b[38;5;28mprint\u001b[39m(\u001b[43mgetArtisticPhotographCount\u001b[49m\u001b[43m(\u001b[49m\u001b[43mN\u001b[49m\u001b[43m,\u001b[49m\u001b[43m \u001b[49m\u001b[43mC\u001b[49m\u001b[43m,\u001b[49m\u001b[43m \u001b[49m\u001b[38;5;241;43m500\u001b[39;49m\u001b[43m,\u001b[49m\u001b[43m \u001b[49m\u001b[38;5;241;43m1000\u001b[39;49m\u001b[43m)\u001b[49m)\n\u001b[1;32m      6\u001b[0m tTot \u001b[38;5;241m=\u001b[39m time\u001b[38;5;241m.\u001b[39mtime() \u001b[38;5;241m-\u001b[39m tStart\n\u001b[1;32m      7\u001b[0m \u001b[38;5;28mprint\u001b[39m(tTot)\n",
      "Input \u001b[0;32mIn [43]\u001b[0m, in \u001b[0;36mgetArtisticPhotographCount\u001b[0;34m(N, C, X, Y)\u001b[0m\n\u001b[1;32m     43\u001b[0m     \u001b[38;5;28;01mcontinue\u001b[39;00m\n\u001b[1;32m     44\u001b[0m \u001b[38;5;28;01mfor\u001b[39;00m b \u001b[38;5;129;01min\u001b[39;00m bVals:\n\u001b[0;32m---> 45\u001b[0m     \u001b[38;5;28;01mif\u001b[39;00m \u001b[38;5;28mabs\u001b[39m(b \u001b[38;5;241m-\u001b[39m a) \u001b[38;5;241m<\u001b[39m X \u001b[38;5;129;01mor\u001b[39;00m \u001b[38;5;28;43mabs\u001b[39;49m(b \u001b[38;5;241m-\u001b[39m a) \u001b[38;5;241m>\u001b[39m Y:\n\u001b[1;32m     46\u001b[0m         \u001b[38;5;28;01mcontinue\u001b[39;00m\n\u001b[1;32m     47\u001b[0m     \u001b[38;5;66;03m# skip if P, B on same side of A\u001b[39;00m\n",
      "\u001b[0;31mKeyboardInterrupt\u001b[0m: "
     ]
    }
   ],
   "source": [
    "vals = ['P','A','B','.']\n",
    "N = 300000\n",
    "C = random.choices(vals, k=N)\n",
    "tStart = time.time()\n",
    "print(getArtisticPhotographCount(N, C, 500, 1000))\n",
    "tTot = time.time() - tStart\n",
    "print(tTot)"
   ]
  },
  {
   "cell_type": "markdown",
   "id": "d01dd9a3",
   "metadata": {},
   "source": [
    "There's still an issue. Even trying to limit the operations, the issue is still with actually looping through everything. It would be nicer possibly if I could change the `for` loop with the given conditions that are checked, rather than checking all ~100,000 values against the conditions."
   ]
  },
  {
   "cell_type": "markdown",
   "id": "37dec9f2",
   "metadata": {},
   "source": [
    "Some more simplifications I can make:\n",
    "* $C_A$ has to be at least $X$ cells from the endpoints"
   ]
  },
  {
   "cell_type": "code",
   "execution_count": 47,
   "id": "06d4bbe4",
   "metadata": {},
   "outputs": [],
   "source": [
    "def getArtisticPhotographCount(N: int, C: str, X: int, Y: int) -> int:\n",
    "    tStart = time.time()\n",
    "    # list comprehension gets bool array of each allowed index for P, A, B\n",
    "    pBool = [True if x=='P' else False for x in C]\n",
    "    aBool = [True if x=='A' else False for x in C]\n",
    "    bBool = [True if x=='B' else False for x in C]\n",
    "    # numpy.where() returns indices for allowed P, A, B\n",
    "    pVals = np.where(pBool)[0]\n",
    "    aVals = np.where(aBool)[0]\n",
    "    bVals = np.where(bBool)[0]\n",
    "    # A needs at least X distance to left/right\n",
    "    aVals = aVals[np.where((aVals >= X) & (aVals <= N-X))[0]]\n",
    "    #print(pVals, aVals, bVals)\n",
    "    \n",
    "    # counter for artistic photographs\n",
    "    nArtisticPhotos = 0\n",
    "    \n",
    "    # now loop through all positions for A\n",
    "    # loop through acceptable P, B positions given A\n",
    "    # and check that they are in the allowed positions for P, B\n",
    "    # increment counter if all satisfied\n",
    "    for a in aVals:\n",
    "        print('Looping for A position '+ str(a) + '. Total time elapsed = ' + str(time.time() - tStart))\n",
    "        # P to left of A\n",
    "        for i in range(a-Y, a-X+1):\n",
    "            if i in pVals:\n",
    "                # B must be to right of A\n",
    "                for j in range(a+X, a+Y+1):\n",
    "                    if j in bVals:\n",
    "                        nArtisticPhotos += 1\n",
    "        # P to right of A\n",
    "        for i in range(a+X, a+Y+1):\n",
    "            if i in pVals:\n",
    "                # B must be to left of A\n",
    "                for j in range(a-Y, a-X+1):\n",
    "                    if j in bVals:\n",
    "                        nArtisticPhotos += 1\n",
    "    \n",
    "    return nArtisticPhotos"
   ]
  },
  {
   "cell_type": "code",
   "execution_count": 46,
   "id": "208be661",
   "metadata": {},
   "outputs": [
    {
     "name": "stdout",
     "output_type": "stream",
     "text": [
      "1\n",
      "0\n",
      "3\n"
     ]
    }
   ],
   "source": [
    "print(getArtisticPhotographCount(5, 'APABA', 1, 2))\n",
    "print(getArtisticPhotographCount(5, 'APABA', 2, 3))\n",
    "print(getArtisticPhotographCount(8, '.PBAAP.B', 1, 3))"
   ]
  },
  {
   "cell_type": "code",
   "execution_count": 48,
   "id": "90d2cc7a",
   "metadata": {},
   "outputs": [
    {
     "name": "stdout",
     "output_type": "stream",
     "text": [
      "Looping for A position 503. Total time elapsed = 0.11040210723876953\n",
      "Looping for A position 513. Total time elapsed = 2.636223077774048\n",
      "Looping for A position 514. Total time elapsed = 5.095998287200928\n",
      "Looping for A position 518. Total time elapsed = 7.399182081222534\n"
     ]
    },
    {
     "ename": "KeyboardInterrupt",
     "evalue": "",
     "output_type": "error",
     "traceback": [
      "\u001b[0;31m---------------------------------------------------------------------------\u001b[0m",
      "\u001b[0;31mKeyboardInterrupt\u001b[0m                         Traceback (most recent call last)",
      "Input \u001b[0;32mIn [48]\u001b[0m, in \u001b[0;36m<cell line: 5>\u001b[0;34m()\u001b[0m\n\u001b[1;32m      3\u001b[0m C \u001b[38;5;241m=\u001b[39m random\u001b[38;5;241m.\u001b[39mchoices(vals, k\u001b[38;5;241m=\u001b[39mN)\n\u001b[1;32m      4\u001b[0m tStart \u001b[38;5;241m=\u001b[39m time\u001b[38;5;241m.\u001b[39mtime()\n\u001b[0;32m----> 5\u001b[0m \u001b[38;5;28mprint\u001b[39m(\u001b[43mgetArtisticPhotographCount\u001b[49m\u001b[43m(\u001b[49m\u001b[43mN\u001b[49m\u001b[43m,\u001b[49m\u001b[43m \u001b[49m\u001b[43mC\u001b[49m\u001b[43m,\u001b[49m\u001b[43m \u001b[49m\u001b[38;5;241;43m500\u001b[39;49m\u001b[43m,\u001b[49m\u001b[43m \u001b[49m\u001b[38;5;241;43m1000\u001b[39;49m\u001b[43m)\u001b[49m)\n\u001b[1;32m      6\u001b[0m tTot \u001b[38;5;241m=\u001b[39m time\u001b[38;5;241m.\u001b[39mtime() \u001b[38;5;241m-\u001b[39m tStart\n\u001b[1;32m      7\u001b[0m \u001b[38;5;28mprint\u001b[39m(tTot)\n",
      "Input \u001b[0;32mIn [47]\u001b[0m, in \u001b[0;36mgetArtisticPhotographCount\u001b[0;34m(N, C, X, Y)\u001b[0m\n\u001b[1;32m     32\u001b[0m \u001b[38;5;28;01mfor\u001b[39;00m i \u001b[38;5;129;01min\u001b[39;00m \u001b[38;5;28mrange\u001b[39m(a\u001b[38;5;241m+\u001b[39mX, a\u001b[38;5;241m+\u001b[39mY\u001b[38;5;241m+\u001b[39m\u001b[38;5;241m1\u001b[39m):\n\u001b[1;32m     33\u001b[0m     \u001b[38;5;28;01mif\u001b[39;00m i \u001b[38;5;129;01min\u001b[39;00m pVals:\n\u001b[1;32m     34\u001b[0m         \u001b[38;5;66;03m# B must be to left of A\u001b[39;00m\n\u001b[0;32m---> 35\u001b[0m         \u001b[38;5;28;01mfor\u001b[39;00m j \u001b[38;5;129;01min\u001b[39;00m \u001b[38;5;28mrange\u001b[39m(a\u001b[38;5;241m-\u001b[39mY, a\u001b[38;5;241m-\u001b[39mX\u001b[38;5;241m+\u001b[39m\u001b[38;5;241m1\u001b[39m):\n\u001b[1;32m     36\u001b[0m             \u001b[38;5;28;01mif\u001b[39;00m j \u001b[38;5;129;01min\u001b[39;00m bVals:\n\u001b[1;32m     37\u001b[0m                 nArtisticPhotos \u001b[38;5;241m+\u001b[39m\u001b[38;5;241m=\u001b[39m \u001b[38;5;241m1\u001b[39m\n",
      "\u001b[0;31mKeyboardInterrupt\u001b[0m: "
     ]
    }
   ],
   "source": [
    "vals = ['P','A','B','.']\n",
    "N = 300000\n",
    "C = random.choices(vals, k=N)\n",
    "tStart = time.time()\n",
    "print(getArtisticPhotographCount(N, C, 500, 1000))\n",
    "tTot = time.time() - tStart\n",
    "print(tTot)"
   ]
  },
  {
   "cell_type": "markdown",
   "id": "97d61abb",
   "metadata": {},
   "source": [
    "It's improving (cut down positions to check for $A$, time to check went from ~6-7s to 2-3s), but still too slow.\n",
    "\n",
    "One improvement could be to store $P$, $B$ as sets for faster checks/lookups.\n",
    "\n",
    "But, I don't actually have to do a loop over positions. Checking one by one is unnecessary if I know that the placements work. $P$ and $B$ are independent of each other. As long as $P$, $B$ individually meet the distance requirements with $A$, it doesn't matter how they relate. Therefore, I don't need to loop over every $B$ for every $P$. I can just count the number of good placements for $B$ and the number of good placements for $P$ for a given $A$ and multiply.\n",
    "\n",
    "To do this, I will store cumulative sums of $P$, $B$ locations so that for a given a position, I can easily calculate the number of $P$, $B$ options in the artistic range without any looping. This enable me to go from nested loops for every $A, P, B$ combination to just looping each once, then retrieving elements of the cumulative sum arrays.\n",
    "\n",
    "The cumulative sum at position $k$ is the sum of all entries up to and including $k$. So to get the sum in array $L$ from positions $k_1$ to $k_2$, I'll want $L[k_2] - L[k_1 - 1]$. Since the $X$ to $Y$ range I'm interested in for this problem may extend beyond the limits of the arrays, I'll have to be careful to handle these cases."
   ]
  },
  {
   "cell_type": "code",
   "execution_count": 49,
   "id": "5f0740e4",
   "metadata": {},
   "outputs": [],
   "source": [
    "def getArtisticPhotographCount(N: int, C: str, X: int, Y: int) -> int:\n",
    "    # list comprehension gets bool array of each allowed index for P, A, B\n",
    "    pBool = [True if x=='P' else False for x in C]\n",
    "    aBool = [True if x=='A' else False for x in C]\n",
    "    bBool = [True if x=='B' else False for x in C]\n",
    "    # numpy.where() returns indices for allowed A\n",
    "    aVals = np.where(aBool)[0]\n",
    "    # A needs at least X distance to left/right\n",
    "    # indices go 0 to N-1, so A should go from 0+X to N-1-X\n",
    "    aVals = aVals[np.where((aVals >= X) & (aVals <= N-1-X))[0]]\n",
    "\n",
    "    # numpy.cumsum() returns sum of allowed P,B positions up to index\n",
    "    pSums = np.cumsum(pBool)\n",
    "    bSums = np.cumsum(bBool)\n",
    "\n",
    "    # counter for artistic photographs\n",
    "    nArtisticPhotos = 0\n",
    "    \n",
    "    # now loop through all positions for A\n",
    "    # for each, calculate # allowed P, B in artistic range\n",
    "    for a in aVals:\n",
    "        # P,B to left of A\n",
    "        # if a-Y extends to beginning of array, then a-X value just gives sum up to there\n",
    "        if (a-Y-1) <= 0:\n",
    "            leftP = pSums[a-X]\n",
    "            leftB = bSums[a-X]\n",
    "        else:\n",
    "            leftP = pSums[a-X] - pSums[a-Y-1]\n",
    "            leftB = bSums[a-X] - bSums[a-Y-1]\n",
    "        #P,B to right of A\n",
    "        # if a+Y extends to end of array, sum is just from a+X-1 to end of array\n",
    "        if (a+Y) >= N-1:\n",
    "            rightP = pSums[N-1] - pSums[a+X-1]\n",
    "            rightB = bSums[N-1] - bSums[a+X-1]\n",
    "        else:\n",
    "            rightP = pSums[a+Y] - pSums[a+X-1]\n",
    "            rightB = bSums[a+Y] - bSums[a+X-1]\n",
    "        # combine left (right) P with right (left) B\n",
    "        nArtisticPhotos += leftP*rightB\n",
    "        nArtisticPhotos += rightP*leftB\n",
    "    \n",
    "    return nArtisticPhotos"
   ]
  },
  {
   "cell_type": "code",
   "execution_count": 50,
   "id": "852d113b",
   "metadata": {},
   "outputs": [
    {
     "name": "stdout",
     "output_type": "stream",
     "text": [
      "1\n",
      "0\n",
      "3\n"
     ]
    }
   ],
   "source": [
    "print(getArtisticPhotographCount(5, 'APABA', 1, 2))\n",
    "print(getArtisticPhotographCount(5, 'APABA', 2, 3))\n",
    "print(getArtisticPhotographCount(8, '.PBAAP.B', 1, 3))"
   ]
  },
  {
   "cell_type": "code",
   "execution_count": 51,
   "id": "f0cc423e",
   "metadata": {},
   "outputs": [
    {
     "name": "stdout",
     "output_type": "stream",
     "text": [
      "2340184114\n",
      "0.45047616958618164\n"
     ]
    }
   ],
   "source": [
    "vals = ['P','A','B','.']\n",
    "N = 300000\n",
    "C = random.choices(vals, k=N)\n",
    "tStart = time.time()\n",
    "print(getArtisticPhotographCount(N, C, 500, 1000))\n",
    "tTot = time.time() - tStart\n",
    "print(tTot)"
   ]
  },
  {
   "cell_type": "markdown",
   "id": "3cb343fd",
   "metadata": {},
   "source": [
    "It works quickly for this complicated case! Much, much faster to not have to use nested loops. I got caught in the nested loop mindset because it seemed natural for checking combinations of $P, A, B$, but this could be solved much more simply without having to do that."
   ]
  },
  {
   "cell_type": "markdown",
   "id": "7886537b",
   "metadata": {},
   "source": [
    "**Results: 34/39 test cases solved**\n",
    "\n",
    "Hm, my output was wrong on 5/39 cases. I'll have to come back to this later to see if I can figure out what's going wrong.\n",
    "\n",
    "*To be continued*"
   ]
  },
  {
   "cell_type": "markdown",
   "id": "6feffe05",
   "metadata": {},
   "source": [
    "### Hops\n",
    "Time limit: 5s\n",
    "\n",
    "A family of frogs in a pond are traveling towards dry land to hibernate. They hope to do so by hopping across a trail of $N$ lily pads, numbered from $1$ to $N$ in order.\n",
    "\n",
    "There are $F$ frogs, numbered from $1$ to $F$. Frog $i$ is currently perched atop lily pad $P_i$. No two frogs are currently on the same lily pad. Lily pad $N$ is right next to the shore, and none of the frogs are initially on lily pad $N$.\n",
    "\n",
    "Each second, one frog may hop along the trail towards lily pad $N$. When a frog hops, it moves to the nearest lily pad after its current lily pad which is not currently occupied by another frog (hopping over any other frogs on intermediate lily pads along the way). If this causes it to reach lily pad $N$, it will immediately exit onto the shore. Multiple frogs may not simultaneously hop during the same second.\n",
    "\n",
    "Assuming the frogs work together optimally when deciding which frog should hop during each second, determine the minimum number of seconds required for all $F$ of them to reach the shore.\n",
    "\n",
    "**Constraints**\n",
    "\n",
    "$2 \\leq N \\leq 10^{12} \\\\\n",
    "1 \\leq F \\leq 500{,}000 \\\\\n",
    "1 \\leq P_i \\leq N - 1$\n",
    "\n",
    "**Sample test cases**\n",
    "1. $N = 3 \\\\\n",
    "F = 1 \\\\\n",
    "P = [1]$\n",
    "\n",
    "&emsp;&emsp;Expected return value = 2\n",
    "\n",
    "2. $N = 6 \\\\\n",
    "F = 3 \\\\\n",
    "P = [5, 2, 4]$\n",
    "\n",
    "&emsp;&emsp;Expected return value = 4"
   ]
  },
  {
   "cell_type": "markdown",
   "id": "7297f1e4",
   "metadata": {},
   "source": [
    "#### Solution"
   ]
  },
  {
   "cell_type": "markdown",
   "id": "01d509ae",
   "metadata": {},
   "source": [
    "### Missing Mail\n",
    "Time limit: 15s\n",
    "\n",
    "You are the manager of a mail room which is frequently subject to theft. A period of $N$ days is about to occur, such that on the $i$th day, the following sequence of events will occur in order:\n",
    "* A package with a value of $V_i$ dollars will get delivered to the mail room (unless $V_i = 0$, in which case no package will get delivered).\n",
    "* You can choose to pay $C$ dollars to enter the mail room and collect all of the packages there (removing them from the room), and then leave the room\n",
    "* With probability $S$, all packages currently in the mail room will get stolen (and therefore removed from the room).\n",
    "\n",
    "Note that you're aware of the delivery schedule $V_{1..N}$, but can only observe the state of the mail room when you choose to enter it, meaning that you won't immediately be aware of whether or not packages were stolen at the end of any given day.\n",
    "\n",
    "Your profit after the $N$th day will be equal to the total value of all packages which you collected up to that point, minus the total amount of money you spent on entering the mail room.\n",
    "\n",
    "Please determine the maximum expected profit you can achieve (in dollars).\n",
    "\n",
    "Note: Your return value must have an absolute or relative error of at most $10^{-6}$ to be considered correct.\n",
    "\n",
    "**Constraints**\n",
    "$1 \\leq N \\leq 4{,}000 \\\\\n",
    "0 \\leq V_i \\leq 1{,}000 \\\\\n",
    "1 \\leq C \\leq 1{,}000 \\\\\n",
    "0.0 \\leq S \\leq 1.0$\n",
    "\n",
    "**Sample test cases**\n",
    "1. $N = 5 \\\\\n",
    "V = [10, 2, 8, 6, 4] \\\\\n",
    "C = 5 \\\\\n",
    "S = 0.0$\n",
    "\n",
    "&emsp;&emsp;Expected return value = 25.00000000\n",
    "\n",
    "2. $N = 5 \\\\\n",
    "V = [10, 2, 8, 6, 4] \\\\\n",
    "C = 5 \\\\\n",
    "S = 1.0$\n",
    "\n",
    "&emsp;&emsp;Expected return value = 9.00000000\n",
    "\n",
    "3. $N = 5 \\\\\n",
    "V = [10, 2, 8, 6, 4] \\\\\n",
    "C = 3 \\\\\n",
    "S = 0.5$\n",
    "\n",
    "&emsp;&emsp;Expected return value = 17.00000000\n",
    "\n",
    "4. $N = 5 \\\\\n",
    "V = [10, 2, 8, 6, 4] \\\\\n",
    "C = 3 \\\\\n",
    "S = 0.15$\n",
    "\n",
    "&emsp;&emsp;Expected return value = 20.10825000"
   ]
  },
  {
   "cell_type": "markdown",
   "id": "db119b00",
   "metadata": {},
   "source": [
    "#### Solution"
   ]
  },
  {
   "cell_type": "markdown",
   "id": "0567fcb3",
   "metadata": {},
   "source": [
    "### Portals\n",
    "Time limit: 5s\n",
    "\n",
    "You've found yourself in a grid of cells with $R$ rows and $C$ columns. The cell in the $i$th row from the top and $j$th column from the left contains one of the following (indicated by the character $G_{i,j}$):\n",
    "* If $G_{i,j}$ = \".\", the cell is empty.\n",
    "* If $G_{i,j}$ = \"S\", the cell contains your starting position. There is exactly one such cell.\n",
    "* If $G_{i,j}$ = \"E\", the cell contains an exit. There is at least one such cell.\n",
    "* If $G_{i,j}$ = \"#\", the cell contains a wall.\n",
    "* Otherwise, if $G_{i,j}$ is a lowercase letter (between \"a\" and \"z\", inclusive), the cell contains a portal marked with that letter.\n",
    "\n",
    "Your objective is to reach any exit from your starting position as quickly as possible. Each second, you may take either of the following actions:\n",
    "* Walk to a cell adjacent to your current one (directly above, below, to the left, or to the right), as long as you remain within the grid and that cell does not contain a wall.\n",
    "* If your current cell contains a portal, teleport to any other cell in the grid containing a portal marked with the same letter as your current cell's portal.\n",
    "\n",
    "Determine the minimum number of seconds required to reach any exit, if it's possible to do so at all. If it's not possible, return −1 instead.\n",
    "\n",
    "**Constraints**\n",
    "\n",
    "$1 \\leq R, C \\leq 50 \\\\$\n",
    "$G_{i,j} \\in$ {\".\",\"S\",\"E\",\"#\",\"a\"$\\dots$\"z\"}\n",
    "\n",
    "**Sample test cases**\n",
    "1. $R = 3 \\\\\n",
    "C = 3 \\\\\n",
    "G = \\begin{matrix}\n",
    "    \\text{.E.} \\\\\n",
    "    \\text{.#E} \\\\\n",
    "    \\text{.S#}\n",
    "    \\end{matrix}$\n",
    "\n",
    "&emsp;&emsp;Expected return value = 4\n",
    "\n",
    "2. $R = 3 \\\\\n",
    "C = 4 \\\\\n",
    "G = \\begin{matrix}\n",
    "    \\text{a.Sa} \\\\\n",
    "    \\text{####} \\\\\n",
    "    \\text{Eb.b}\n",
    "    \\end{matrix}$\n",
    "\n",
    "&emsp;&emsp;Expected return value = -1\n",
    "\n",
    "3. $R = 3 \\\\\n",
    "C = 4 \\\\\n",
    "G = \\begin{matrix}\n",
    "    \\text{aS.b} \\\\\n",
    "    \\text{####} \\\\\n",
    "    \\text{Eb.a}\n",
    "    \\end{matrix}$\n",
    "\n",
    "&emsp;&emsp;Expected return value = 4\n",
    "\n",
    "4. $R = 1 \\\\\n",
    "C = 9 \\\\\n",
    "G = \\begin{matrix}\n",
    "\\text{xS..x..Ex}\n",
    "\\end{matrix}$\n",
    "\n",
    "&emsp;&emsp;Expected return value = 3"
   ]
  },
  {
   "cell_type": "markdown",
   "id": "f65f003b",
   "metadata": {},
   "source": [
    "#### Solution"
   ]
  },
  {
   "cell_type": "markdown",
   "id": "db1d050a",
   "metadata": {},
   "source": [
    "### Rabbit Hole (Chapter 1)\n",
    "Time limit: 5s\n",
    "\n",
    "*Note: Chapter 2 is a harder version of this puzzle.*\n",
    "\n",
    "You're having a grand old time clicking through the rabbit hole that is your favorite online encyclopedia.\n",
    "\n",
    "The encyclopedia consists of $N$ different web pages, numbered from \n",
    "$1$ to $N$. Each page $i$ contains nothing but a single link to a different page $L_i$.\n",
    "\n",
    "A session spent on this website involves beginning on one of the $N$ pages, and then navigating around using the links until you decide to stop. That is, while on page $i$, you may either move to page $L_i$, or stop your browsing session.\n",
    "\n",
    "Assuming you can choose which page you begin the session on, what's the maximum number of different pages you can visit in a single session? Note that a page only counts once even if visited multiple times during the session.\n",
    "\n",
    "**Constraints**\n",
    "$2 \\leq N \\leq 500{,}000 \\\\\n",
    "1 \\leq L_i \\leq N \\\\\n",
    "L_i \\neq i$\n",
    "\n",
    "**Sample test cases**\n",
    "1. $N = 4 \\\\\n",
    "L = [4, 1, 2, 1]$\n",
    "\n",
    "&emsp;&emsp;Expected return value = 4\n",
    "\n",
    "2. $N = 5 \\\\\n",
    "L = [4, 3, 5, 1, 2]$\n",
    "\n",
    "&emsp;&emsp;Expected return value = 3\n",
    "\n",
    "3. $N = 5 \\\\\n",
    "L = [2, 4, 2, 2, 3]$\n",
    "\n",
    "&emsp;&emsp;Expected return value = 4"
   ]
  },
  {
   "cell_type": "markdown",
   "id": "b53ecf5d",
   "metadata": {},
   "source": [
    "#### Solution\n",
    "\n",
    "*try: for each case, store loops in sets, if you can get to one page in the set you can eventually get to all other pages in that set. go through all pages then return size of largest set*"
   ]
  },
  {
   "cell_type": "markdown",
   "id": "1f877edd",
   "metadata": {},
   "source": [
    "### Rotary Lock (Chapter 2)\n",
    "Time limit: 15s\n",
    "\n",
    "*Note: Chapter 1 is an easier version of this puzzle.*\n",
    "\n",
    "You're trying to open a lock. The lock comes with two wheels, each of which has the integers from $1$ to $N$ arranged in a circle in order around it (with integers $1$ and $N$ adjacent to one another). Each wheel is initially pointing at $1$.\n",
    "\n",
    "It takes $1$ second to rotate a wheel by $1$ unit to an adjacent integer in either direction, and it takes no time to select an integer once a wheel is pointing at it.\n",
    "\n",
    "The lock will open if you enter a certain code. The code consists of a sequence of $M$ integers, the $i$th of which is $C_i$. For each integer in the sequence, you may select it with either of the two wheels. Determine the minimum number of seconds required to select all $M$ of the code's integers in order.\n",
    "\n",
    "**Constraints**\n",
    "$3 \\leq N \\leq 1{,}000{,}000{,}000 \\\\\n",
    "1 \\leq M \\leq 3{,}000 \\\\\n",
    "1 \\leq C_i \\leq N$\n",
    "\n",
    "**Sample test cases**\n",
    "1. $N = 3 \\\\\n",
    "M = 3 \\\\\n",
    "C = [1, 2, 3]$\n",
    "\n",
    "&emsp;&emsp;Expected return value = 2\n",
    "\n",
    "2. $N = 10 \\\\\n",
    "M = 4 \\\\\n",
    "C = [9, 4, 4, 8]$\n",
    "\n",
    "&emsp;&emsp;Expected return value = 6"
   ]
  },
  {
   "cell_type": "markdown",
   "id": "0a9a9aa1",
   "metadata": {},
   "source": [
    "#### Solution"
   ]
  },
  {
   "cell_type": "markdown",
   "id": "39f591af",
   "metadata": {},
   "source": [
    "### Scoreboard Inference (Chapter 2)\n",
    "Time limit: 5s\n",
    "\n",
    "*Note: Chapter 1 is an easier version of this puzzle. The only difference is a smaller set of possible problem point values.*\n",
    "\n",
    "You are spectating a programming contest with $N$ competitors, each trying to independently solve the same set of programming problems. Each problem has a point value, which is **either 1, 2, or 3**.\n",
    "\n",
    "On the scoreboard, you observe that the $i$th competitor has attained a score of $S_i$, which is a positive integer equal to the sum of the point values of all the problems they have solved.\n",
    "\n",
    "The scoreboard does not display the number of problems in the contest, nor their point values. Using the information available, you would like to determine the minimum possible number of problems in the contest.\n",
    "\n",
    "**Constraints**\n",
    "$1 \\leq N \\leq 500{,}000 \\\\\n",
    "1 \\leq S_i \\leq 1{,}000{,}000{,}000$\n",
    "\n",
    "**Sample test cases**\n",
    "1. $N = 5 \\\\\n",
    "S = [1, 2, 3, 4, 5]$\n",
    "\n",
    "&esmp;&emsp;Expected return value = 3\n",
    "\n",
    "2. $N = 4 \\\\\n",
    "S = [4, 3, 3, 4]$\n",
    "\n",
    "&emsp;&emsp;Expected return value = 2\n",
    "\n",
    "3. $N = 4 \\\\\n",
    "S = [2, 4, 6, 8]$\n",
    "\n",
    "&emsp;&emsp;Expected return value = 4\n",
    "\n",
    "4. $N = 1 \\\\\n",
    "S = [8]$\n",
    "\n",
    "&emsp;&emsp;Expected return value = 3"
   ]
  },
  {
   "cell_type": "markdown",
   "id": "1b23024b",
   "metadata": {},
   "source": [
    "#### Solution"
   ]
  },
  {
   "cell_type": "markdown",
   "id": "02d6887b",
   "metadata": {},
   "source": [
    "### Tunnel Time\n",
    "Time limit: 5s\n",
    "\n",
    "There’s a circular train track with a circumference of $C$ metres. Positions along the track are measured in metres, clockwise from its topmost point. For example, the topmost point is position $0$, $1$ metre clockwise along the track is position $1$, and $1$ metre counterclockwise along the track is position $C−1$.\n",
    "\n",
    "A train with negligible length runs clockwise along this track at a speed of $1$ metre per second, starting from position $0$. After $C$ seconds go by, the train will have driven around the entire track and returned to position $0$, at which point it will continue going around again, with this process repeated indefinitely.\n",
    "\n",
    "There are $N$ tunnels covering sections of the track, the $i$th of which begins at position $A_i$ and ends at position $B_i$ (and therefore has a length of $B_i - A_i$ metres). No tunnel covers or touches position $0$ (including at its endpoints), and no two tunnels intersect or touch one another (including at their endpoints). For example, if there's a tunnel spanning the interval of positions $[1,4]$, there cannot be another tunnel spanning intervals $[2,3]$ nor $[4,5]$.\n",
    "\n",
    "The train’s *tunnel time* is the total number of seconds it has spent going through tunnels so far. Determine the total number of seconds which will go by before the train’s tunnel time becomes $K$.\n",
    "\n",
    "**Constraints**\n",
    "$3 \\leq C \\leq 10^{12} \\\\\n",
    "1 \\leq N \\leq 500{,}000 \\\\\n",
    "1 \\leq A_i < B_i \\leq C - 1 \\\\\n",
    "1 \\leq K \\leq 10^{12}$\n",
    "\n",
    "Each test case's parameters will be formulated such that the correct answer for that case is at most $10^{15}$.\n",
    "\n",
    "**Sample test cases**\n",
    "1. $C = 10 \\\\\n",
    "N = 2 \\\\\n",
    "A = [1, 6] \\\\\n",
    "B = [3, 7] \\\\\n",
    "K = 7$\n",
    "\n",
    "&emsp;&emsp;Expected return value = 22\n",
    "\n",
    "2. $C = 50 \\\\\n",
    "N = 3 \\\\\n",
    "A = [39, 19, 28] \\\\\n",
    "B = [49, 27, 35] \\\\\n",
    "K = 15$\n",
    "\n",
    "&emsp;&emsp;Expected return value = 35"
   ]
  },
  {
   "cell_type": "markdown",
   "id": "9cbccfc5",
   "metadata": {},
   "source": [
    "#### Solution"
   ]
  }
 ],
 "metadata": {
  "kernelspec": {
   "display_name": "Python 3 (ipykernel)",
   "language": "python",
   "name": "python3"
  },
  "language_info": {
   "codemirror_mode": {
    "name": "ipython",
    "version": 3
   },
   "file_extension": ".py",
   "mimetype": "text/x-python",
   "name": "python",
   "nbconvert_exporter": "python",
   "pygments_lexer": "ipython3",
   "version": "3.9.12"
  }
 },
 "nbformat": 4,
 "nbformat_minor": 5
}
