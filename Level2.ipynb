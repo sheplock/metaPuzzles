{
 "cells": [
  {
   "cell_type": "markdown",
   "id": "80cbb19c",
   "metadata": {},
   "source": [
    "## [Meta Coding Puzzles](https://www.metacareers.com/profile/coding_puzzles/)\n",
    "\n",
    "Below are my solutions for the \"Level 2\" puzzles."
   ]
  },
  {
   "cell_type": "markdown",
   "id": "c69796c2",
   "metadata": {},
   "source": [
    "### Director of Photography (Chapter 2)\n",
    "Time limit: 5s\n",
    "\n",
    "*Note: Chapter 1 is an easier version of this puzzle. The only difference is a smaller constraint on $N$.*\n",
    "\n",
    "A photography set consists of $N$ cells in a row, numbered from $1$ to $N$ in order, and can be represented by a string $C$ of length $N$. Each cell $i$ is one of the following types (indicated by $C_i$, the $i$th character of $C$):\n",
    "\n",
    "* If $C_i$ = “P”, it is allowed to contain a photographer\n",
    "* If $C_i$ = “A”, it is allowed to contain an actor\n",
    "* If $C_i$ = “B”, it is allowed to contain a backdrop\n",
    "* If $C_i$ = “.”, it must be left empty\n",
    "\n",
    "A photograph consists of a photographer, an actor, and a backdrop, such that each of them is placed in a valid cell, and such that the actor is between the photographer and the backdrop. Such a photograph is considered artistic if the distance between the photographer and the actor is between $X$ and $Y$ cells (inclusive), and the distance between the actor and the backdrop is also between $X$ and $Y$ cells (inclusive). The distance between cells $i$ and $j$ is $∣i−j∣$ (the absolute value of the difference between their indices).\n",
    "\n",
    "Determine the number of different artistic photographs which could potentially be taken at the set. Two photographs are considered different if they involve a different photographer cell, actor cell, and/or backdrop cell.\n",
    "\n",
    "**Constraints**\n",
    "\n",
    "$1 \\leq N \\leq 300{,}000 \\\\\n",
    "1 \\leq X \\leq Y \\leq N$\n",
    "\n",
    "**Sample test cases**\n",
    "1. $N = 5 \\\\\n",
    "C = APABA \\\\\n",
    "X = 1 \\\\\n",
    "Y = 2$\n",
    "\n",
    "&emsp;&emsp;Expected return value = 1\n",
    "\n",
    "2. $N = 5 \\\\\n",
    "C = APABA \\\\\n",
    "X = 2 \\\\\n",
    "Y = 3$\n",
    "\n",
    "&emsp;&emsp;Expected return value = 0\n",
    "\n",
    "3. $N = 8 \\\\\n",
    "C = \\, .PBAAP.B \\\\\n",
    "X = 1 \\\\\n",
    "Y = 3$\n",
    "\n",
    "&emsp;&emsp;Expected return value = 3"
   ]
  },
  {
   "cell_type": "markdown",
   "id": "451762b0",
   "metadata": {},
   "source": [
    "#### Solution\n",
    "\n",
    "Now, the upper bound on $N$ is $300{,}000$ rather than $200$. My last solution looped through $N^3$ combinations of $P,A,B$ locations, so with a large $N$ this may be too slow given the time limit. Rather than try every combination, I should be able to speed things up by looking only at values I know will be acceptable positions of each $P, A, B$. Rather than checking all $N$ entries for each, I can use `numpy.where()` to extract indices that are potential placements of each element. Since each element $C_i$ can only be one value, each index can only appear for at most one of $P, A, B$. \n",
    "\n",
    "I can also reduce the loops by using the artistic photograph conditions. For $P$ at $C_P$, $A$ at $C_A$ has to be within $[C_P - Y, C_P - X]$ or $[C_P + X, C_P + Y]$, i.e. $|C_P - C_A| \\geq X$ and $|C_P - C_A| \\leq Y$. Similarly, for $B$ at $C_B$, $|C_B - C_A| \\geq X$ and $|C_B - C_A| \\leq Y$. So, for a given $C_A$, I only have to consider a subset of possible $C_P, C_B$. Also, if $C_P > C_A$, then $C_B < C_A$ is required and vice versa.\n",
    "\n",
    "This will greatly reduce the number of times through all the loops required."
   ]
  },
  {
   "cell_type": "code",
   "execution_count": 7,
   "id": "dcaaf0aa",
   "metadata": {},
   "outputs": [],
   "source": [
    "import numpy as np"
   ]
  },
  {
   "cell_type": "code",
   "execution_count": 45,
   "id": "ad64f5fc",
   "metadata": {},
   "outputs": [],
   "source": [
    "# helper function for checking whether a given orientation is a(n artistic) photograph\n",
    "# to do this, I just need to index of each element and the X and Y values\n",
    "# first I'll check for valid photograph, returning false if it is not valid\n",
    "# then I'll check for artistic photograph, returning false if it is not artistic\n",
    "# finally, if it passes all requirements, return true\n",
    "def checkArtisticPhotograph(P: int, A: int, B: int, X: int, Y: int) -> bool:\n",
    "    # check orientation, A needs to be in between P and B\n",
    "    if P < B and (A > B or A < P):\n",
    "        return False\n",
    "    elif B < P and (A < B or A > P):\n",
    "        return False\n",
    "    else:\n",
    "        # orientation valid, check for distances\n",
    "        if abs(A - P) < X or abs(A - P) > Y:\n",
    "            return False\n",
    "        elif abs(A - B) < X or abs(A - B) > Y:\n",
    "            return False\n",
    "    # passed all checks\n",
    "    return True\n",
    "\n",
    "def getArtisticPhotographCount(N: int, C: str, X: int, Y: int) -> int:\n",
    "    tStart = time.time()\n",
    "    # list comprehension gets bool array of each allowed index for P, A, B\n",
    "    pBool = [True if x=='P' else False for x in C]\n",
    "    aBool = [True if x=='A' else False for x in C]\n",
    "    bBool = [True if x=='B' else False for x in C]\n",
    "    # numpy.where() returns indices for allowed P, A, B\n",
    "    pVals = np.where(pBool)[0]\n",
    "    aVals = np.where(aBool)[0]\n",
    "    bVals = np.where(bBool)[0]\n",
    "    print(pVals, aVals, bVals)\n",
    "    \n",
    "    # counter for artistic photographs\n",
    "    nArtisticPhotos = 0\n",
    "    \n",
    "    # now loop through all positions for A, P, B separately\n",
    "    # limit search to artistic locations of P, B given A\n",
    "    # skip combinations that don't meet distance and orientation requirements\n",
    "    # increment counter if all satisfied\n",
    "    for a in aVals:\n",
    "        print('Looping for A position '+ str(a) + '. Total time elapsed = ' + str(time.time() - tStart))\n",
    "        for p in pVals:\n",
    "            if abs(p - a) < X or abs(p - a) > Y:\n",
    "                continue\n",
    "            for b in bVals:\n",
    "                if abs(b - a) < X or abs(b - a) > Y:\n",
    "                    continue\n",
    "                # skip if P, B on same side of A\n",
    "                if (p > a and b > a) or (p < a and b < a):\n",
    "                    continue\n",
    "                nArtisticPhotos += 1\n",
    "    \n",
    "    return nArtisticPhotos"
   ]
  },
  {
   "cell_type": "code",
   "execution_count": 46,
   "id": "8e0a12cb",
   "metadata": {},
   "outputs": [
    {
     "name": "stdout",
     "output_type": "stream",
     "text": [
      "[1] [0 2 4] [3]\n",
      "Looping for A position 0. Total time elapsed = 0.0565030574798584\n",
      "Looping for A position 2. Total time elapsed = 0.05661296844482422\n",
      "Looping for A position 4. Total time elapsed = 0.05664801597595215\n",
      "1\n",
      "[1] [0 2 4] [3]\n",
      "Looping for A position 0. Total time elapsed = 0.000286102294921875\n",
      "Looping for A position 2. Total time elapsed = 0.0003161430358886719\n",
      "Looping for A position 4. Total time elapsed = 0.0003409385681152344\n",
      "0\n",
      "[1 5] [3 4] [2 7]\n",
      "Looping for A position 3. Total time elapsed = 0.002513885498046875\n",
      "Looping for A position 4. Total time elapsed = 0.0025548934936523438\n",
      "3\n"
     ]
    }
   ],
   "source": [
    "print(getArtisticPhotographCount(5, 'APABA', 1, 2))\n",
    "print(getArtisticPhotographCount(5, 'APABA', 2, 3))\n",
    "print(getArtisticPhotographCount(8, '.PBAAP.B', 1, 3))"
   ]
  },
  {
   "cell_type": "markdown",
   "id": "a21a3302",
   "metadata": {},
   "source": [
    "The simple test cases are solved, but I need to check complex cases where $N$ is at its upper bound. I'll check how long it takes to handle such a case."
   ]
  },
  {
   "cell_type": "code",
   "execution_count": 27,
   "id": "fdac104f",
   "metadata": {},
   "outputs": [],
   "source": [
    "import time"
   ]
  },
  {
   "cell_type": "code",
   "execution_count": 28,
   "id": "25e3fa7b",
   "metadata": {},
   "outputs": [],
   "source": [
    "import random"
   ]
  },
  {
   "cell_type": "code",
   "execution_count": 47,
   "id": "749a9220",
   "metadata": {},
   "outputs": [
    {
     "name": "stdout",
     "output_type": "stream",
     "text": [
      "[     9     11     19 ... 299986 299990 299991] [     0      2      7 ... 299987 299988 299998] [     1      4      5 ... 299995 299997 299999]\n",
      "Looping for A position 0. Total time elapsed = 0.10676026344299316\n",
      "Looping for A position 2. Total time elapsed = 5.9137022495269775\n",
      "Looping for A position 7. Total time elapsed = 11.443279266357422\n",
      "Looping for A position 12. Total time elapsed = 16.903674125671387\n",
      "Looping for A position 16. Total time elapsed = 23.328638315200806\n",
      "Looping for A position 18. Total time elapsed = 30.022003173828125\n"
     ]
    },
    {
     "ename": "KeyboardInterrupt",
     "evalue": "",
     "output_type": "error",
     "traceback": [
      "\u001b[0;31m---------------------------------------------------------------------------\u001b[0m",
      "\u001b[0;31mKeyboardInterrupt\u001b[0m                         Traceback (most recent call last)",
      "Input \u001b[0;32mIn [47]\u001b[0m, in \u001b[0;36m<cell line: 5>\u001b[0;34m()\u001b[0m\n\u001b[1;32m      3\u001b[0m C \u001b[38;5;241m=\u001b[39m random\u001b[38;5;241m.\u001b[39mchoices(vals, k\u001b[38;5;241m=\u001b[39mN)\n\u001b[1;32m      4\u001b[0m tStart \u001b[38;5;241m=\u001b[39m time\u001b[38;5;241m.\u001b[39mtime()\n\u001b[0;32m----> 5\u001b[0m \u001b[38;5;28mprint\u001b[39m(\u001b[43mgetArtisticPhotographCount\u001b[49m\u001b[43m(\u001b[49m\u001b[43mN\u001b[49m\u001b[43m,\u001b[49m\u001b[43m \u001b[49m\u001b[43mC\u001b[49m\u001b[43m,\u001b[49m\u001b[43m \u001b[49m\u001b[38;5;241;43m500\u001b[39;49m\u001b[43m,\u001b[49m\u001b[43m \u001b[49m\u001b[38;5;241;43m1000\u001b[39;49m\u001b[43m)\u001b[49m)\n\u001b[1;32m      6\u001b[0m tTot \u001b[38;5;241m=\u001b[39m time\u001b[38;5;241m.\u001b[39mtime() \u001b[38;5;241m-\u001b[39m tStart\n\u001b[1;32m      7\u001b[0m \u001b[38;5;28mprint\u001b[39m(tTot)\n",
      "Input \u001b[0;32mIn [45]\u001b[0m, in \u001b[0;36mgetArtisticPhotographCount\u001b[0;34m(N, C, X, Y)\u001b[0m\n\u001b[1;32m     44\u001b[0m     \u001b[38;5;28;01mcontinue\u001b[39;00m\n\u001b[1;32m     45\u001b[0m \u001b[38;5;28;01mfor\u001b[39;00m b \u001b[38;5;129;01min\u001b[39;00m bVals:\n\u001b[0;32m---> 46\u001b[0m     \u001b[38;5;28;01mif\u001b[39;00m \u001b[38;5;28;43mabs\u001b[39;49m\u001b[43m(\u001b[49m\u001b[43mb\u001b[49m\u001b[43m \u001b[49m\u001b[38;5;241;43m-\u001b[39;49m\u001b[43m \u001b[49m\u001b[43ma\u001b[49m\u001b[43m)\u001b[49m\u001b[43m \u001b[49m\u001b[38;5;241;43m<\u001b[39;49m\u001b[43m \u001b[49m\u001b[43mX\u001b[49m \u001b[38;5;129;01mor\u001b[39;00m \u001b[38;5;28mabs\u001b[39m(b \u001b[38;5;241m-\u001b[39m a) \u001b[38;5;241m>\u001b[39m Y:\n\u001b[1;32m     47\u001b[0m         \u001b[38;5;28;01mcontinue\u001b[39;00m\n\u001b[1;32m     48\u001b[0m     \u001b[38;5;66;03m# skip if P, B on same side of A\u001b[39;00m\n",
      "\u001b[0;31mKeyboardInterrupt\u001b[0m: "
     ]
    }
   ],
   "source": [
    "vals = ['P','A','B','.']\n",
    "N = 300000\n",
    "C = random.choices(vals, k=N)\n",
    "tStart = time.time()\n",
    "print(getArtisticPhotographCount(N, C, 500, 1000))\n",
    "tTot = time.time() - tStart\n",
    "print(tTot)"
   ]
  },
  {
   "cell_type": "markdown",
   "id": "d01dd9a3",
   "metadata": {},
   "source": [
    "There's still an issue. Even trying to limit the operations, the issue is still with actually looping through everything. It would be nicer possibly if I could change the `for` loop with the given conditions that are checked, rather than checking all ~100,000 values against the conditions."
   ]
  },
  {
   "cell_type": "markdown",
   "id": "37dec9f2",
   "metadata": {},
   "source": [
    "Some more simplifications I can make:\n",
    "* $C_A$ has to be at least $X$ cells from the endpoints"
   ]
  },
  {
   "cell_type": "code",
   "execution_count": 63,
   "id": "06d4bbe4",
   "metadata": {},
   "outputs": [],
   "source": [
    "def getArtisticPhotographCount(N: int, C: str, X: int, Y: int) -> int:\n",
    "    tStart = time.time()\n",
    "    # list comprehension gets bool array of each allowed index for P, A, B\n",
    "    pBool = [True if x=='P' else False for x in C]\n",
    "    aBool = [True if x=='A' else False for x in C]\n",
    "    bBool = [True if x=='B' else False for x in C]\n",
    "    # numpy.where() returns indices for allowed P, A, B\n",
    "    pVals = np.where(pBool)[0]\n",
    "    aVals = np.where(aBool)[0]\n",
    "    bVals = np.where(bBool)[0]\n",
    "    # A needs at least X distance to left/right\n",
    "    aVals = aVals[np.where((aVals >= X) & (aVals <= N-X))[0]]\n",
    "    print(pVals, aVals, bVals)\n",
    "    \n",
    "    # counter for artistic photographs\n",
    "    nArtisticPhotos = 0\n",
    "    \n",
    "    # now loop through all positions for A\n",
    "    # loop through acceptable P, B positions given A\n",
    "    # and check that they are in the allowed positions for P, B\n",
    "    # increment counter if all satisfied\n",
    "    for a in aVals:\n",
    "        print('Looping for A position '+ str(a) + '. Total time elapsed = ' + str(time.time() - tStart))\n",
    "        # P to left of A\n",
    "        for i in range(a-Y, a-X+1):\n",
    "            if i in pVals:\n",
    "                # B must be to right of A\n",
    "                for j in range(a+X, a+Y+1):\n",
    "                    if j in bVals:\n",
    "                        nArtisticPhotos += 1\n",
    "        # P to right of A\n",
    "        for i in range(a+X, a+Y+1):\n",
    "            if i in pVals:\n",
    "                # B must be to left of A\n",
    "                for j in range(a-Y, a-X+1):\n",
    "                    if j in bVals:\n",
    "                        nArtisticPhotos += 1\n",
    "    \n",
    "    return nArtisticPhotos"
   ]
  },
  {
   "cell_type": "code",
   "execution_count": 61,
   "id": "208be661",
   "metadata": {},
   "outputs": [
    {
     "name": "stdout",
     "output_type": "stream",
     "text": [
      "[1] [2 4] [3]\n",
      "Looping for A position 2. Total time elapsed = 0.001821279525756836\n",
      "Looping for A position 4. Total time elapsed = 0.006526947021484375\n",
      "1\n",
      "[1] [2] [3]\n",
      "Looping for A position 2. Total time elapsed = 0.004834175109863281\n",
      "0\n",
      "[1 5] [3 4] [2 7]\n",
      "Looping for A position 3. Total time elapsed = 0.002190828323364258\n",
      "Looping for A position 4. Total time elapsed = 0.0023157596588134766\n",
      "3\n"
     ]
    }
   ],
   "source": [
    "print(getArtisticPhotographCount(5, 'APABA', 1, 2))\n",
    "print(getArtisticPhotographCount(5, 'APABA', 2, 3))\n",
    "print(getArtisticPhotographCount(8, '.PBAAP.B', 1, 3))"
   ]
  },
  {
   "cell_type": "code",
   "execution_count": 62,
   "id": "90d2cc7a",
   "metadata": {},
   "outputs": [
    {
     "name": "stdout",
     "output_type": "stream",
     "text": [
      "[     0      2      5 ... 299988 299990 299993] [   505    509    511 ... 299492 299493 299500] [     4      9     10 ... 299987 299989 299999]\n",
      "Looping for A position 505. Total time elapsed = 0.10554075241088867\n",
      "Looping for A position 509. Total time elapsed = 2.606355905532837\n",
      "Looping for A position 511. Total time elapsed = 4.94681978225708\n",
      "Looping for A position 518. Total time elapsed = 7.319139719009399\n",
      "Looping for A position 519. Total time elapsed = 9.867064714431763\n",
      "Looping for A position 520. Total time elapsed = 12.272127866744995\n",
      "Looping for A position 524. Total time elapsed = 14.707591772079468\n",
      "Looping for A position 529. Total time elapsed = 17.07474994659424\n",
      "Looping for A position 532. Total time elapsed = 19.482998847961426\n",
      "Looping for A position 540. Total time elapsed = 21.99131488800049\n"
     ]
    },
    {
     "ename": "KeyboardInterrupt",
     "evalue": "",
     "output_type": "error",
     "traceback": [
      "\u001b[0;31m---------------------------------------------------------------------------\u001b[0m",
      "\u001b[0;31mKeyboardInterrupt\u001b[0m                         Traceback (most recent call last)",
      "Input \u001b[0;32mIn [62]\u001b[0m, in \u001b[0;36m<cell line: 5>\u001b[0;34m()\u001b[0m\n\u001b[1;32m      3\u001b[0m C \u001b[38;5;241m=\u001b[39m random\u001b[38;5;241m.\u001b[39mchoices(vals, k\u001b[38;5;241m=\u001b[39mN)\n\u001b[1;32m      4\u001b[0m tStart \u001b[38;5;241m=\u001b[39m time\u001b[38;5;241m.\u001b[39mtime()\n\u001b[0;32m----> 5\u001b[0m \u001b[38;5;28mprint\u001b[39m(\u001b[43mgetArtisticPhotographCount\u001b[49m\u001b[43m(\u001b[49m\u001b[43mN\u001b[49m\u001b[43m,\u001b[49m\u001b[43m \u001b[49m\u001b[43mC\u001b[49m\u001b[43m,\u001b[49m\u001b[43m \u001b[49m\u001b[38;5;241;43m500\u001b[39;49m\u001b[43m,\u001b[49m\u001b[43m \u001b[49m\u001b[38;5;241;43m1000\u001b[39;49m\u001b[43m)\u001b[49m)\n\u001b[1;32m      6\u001b[0m tTot \u001b[38;5;241m=\u001b[39m time\u001b[38;5;241m.\u001b[39mtime() \u001b[38;5;241m-\u001b[39m tStart\n\u001b[1;32m      7\u001b[0m \u001b[38;5;28mprint\u001b[39m(tTot)\n",
      "Input \u001b[0;32mIn [60]\u001b[0m, in \u001b[0;36mgetArtisticPhotographCount\u001b[0;34m(N, C, X, Y)\u001b[0m\n\u001b[1;32m     32\u001b[0m \u001b[38;5;28;01mfor\u001b[39;00m i \u001b[38;5;129;01min\u001b[39;00m \u001b[38;5;28mrange\u001b[39m(a\u001b[38;5;241m+\u001b[39mX, a\u001b[38;5;241m+\u001b[39mY\u001b[38;5;241m+\u001b[39m\u001b[38;5;241m1\u001b[39m):\n\u001b[1;32m     33\u001b[0m     \u001b[38;5;28;01mif\u001b[39;00m i \u001b[38;5;129;01min\u001b[39;00m pVals:\n\u001b[1;32m     34\u001b[0m         \u001b[38;5;66;03m# B must be to left of A\u001b[39;00m\n\u001b[0;32m---> 35\u001b[0m         \u001b[38;5;28;01mfor\u001b[39;00m j \u001b[38;5;129;01min\u001b[39;00m \u001b[38;5;28mrange\u001b[39m(a\u001b[38;5;241m-\u001b[39mY, a\u001b[38;5;241m-\u001b[39mX\u001b[38;5;241m+\u001b[39m\u001b[38;5;241m1\u001b[39m):\n\u001b[1;32m     36\u001b[0m             \u001b[38;5;28;01mif\u001b[39;00m j \u001b[38;5;129;01min\u001b[39;00m bVals:\n\u001b[1;32m     37\u001b[0m                 nArtisticPhotos \u001b[38;5;241m+\u001b[39m\u001b[38;5;241m=\u001b[39m \u001b[38;5;241m1\u001b[39m\n",
      "\u001b[0;31mKeyboardInterrupt\u001b[0m: "
     ]
    }
   ],
   "source": [
    "vals = ['P','A','B','.']\n",
    "N = 300000\n",
    "C = random.choices(vals, k=N)\n",
    "tStart = time.time()\n",
    "print(getArtisticPhotographCount(N, C, 500, 1000))\n",
    "tTot = time.time() - tStart\n",
    "print(tTot)"
   ]
  },
  {
   "cell_type": "markdown",
   "id": "97d61abb",
   "metadata": {},
   "source": [
    "Improving (cut down positions to check for $A$, time to check went from ~6-7s to 2-3s), but still too slow.\n",
    "\n",
    "One improvement, store $P$, $B$ as sets for faster checks/lookups.\n",
    "\n",
    "But, I don't actually have to do a full loop over positions. Checking one by one is unnecessary if I know that the placements work. $P$ and $B$ are independent of each other. As long as $P$, $B$ individually meet the distance requirements with $A$, it doesn't matter how they relate. Therefore, I don't need to loop over every $B$ for every $P$. I can just count the number of good placements for $B$ and the number of good placements for $P$ for a given $A$ and multiply. This should cut down time going from a nested loop ($N*N$), to looping each separately ($2*N$).\n",
    "\n",
    "*To try: store cumulative sums of p/b locations so that for a given a position, i can easily calculate the number of p/b in the artistic range without any looping*"
   ]
  },
  {
   "cell_type": "code",
   "execution_count": 97,
   "id": "5f0740e4",
   "metadata": {},
   "outputs": [],
   "source": [
    "from collections import OrderedDict\n",
    "\n",
    "def getArtisticPhotographCount(N: int, C: str, X: int, Y: int) -> int:\n",
    "    tStart = time.time()\n",
    "    # list comprehension gets bool array of each allowed index for P, A, B\n",
    "    pBool = [True if x=='P' else False for x in C]\n",
    "    aBool = [True if x=='A' else False for x in C]\n",
    "    bBool = [True if x=='B' else False for x in C]\n",
    "    # numpy.where() returns indices for allowed P, A, B\n",
    "    #pVals = np.where(pBool)[0]\n",
    "    aVals = np.where(aBool)[0]\n",
    "    #bVals = np.where(bBool)[0]\n",
    "    # A needs at least X distance to left/right\n",
    "    # indices go 0 to N-1, so A should go from 0+X to N-1-X\n",
    "    aVals = aVals[np.where((aVals >= X) & (aVals <= N-1-X))[0]]\n",
    "    \n",
    "    pSums = np.cumsum(pBool)\n",
    "    bSums = np.cumsum(pBool)\n",
    "    # store p,b as set for faster lookup\n",
    "    #pSet = set(pVals)\n",
    "    #bSet = set(bVals)\n",
    "    # counter for artistic photographs\n",
    "    nArtisticPhotos = 0\n",
    "    \n",
    "    # now loop through all positions for A\n",
    "    # loop through acceptable P, B positions given A\n",
    "    # and check that they are in the allowed positions for P, B\n",
    "    # increment counter if all satisfied\n",
    "    for a in aVals:\n",
    "        #print('Looping for A position '+ str(a) + '. Total time elapsed = ' + str(time.time() - tStart))\n",
    "        # P to left/right of A\n",
    "        leftP = pSums[a-X] - pSums[max(0,a-Y)]\n",
    "        rightP = pSums[min(N-1,a+Y)] - pSums[a+X]\n",
    "        # B to left/right of A\n",
    "        leftB = bSums[a-X] - bSums[max(0,a-Y)]\n",
    "        rightB = bSums[min(N-1,a+Y)] - bSums[a+X]\n",
    "        # combine left (right) P with right (left) B\n",
    "        nArtisticPhotos += leftP*rightB\n",
    "        nArtisticPhotos += rightP*leftB\n",
    "    \n",
    "    return nArtisticPhotos"
   ]
  },
  {
   "cell_type": "code",
   "execution_count": 90,
   "id": "852d113b",
   "metadata": {},
   "outputs": [
    {
     "name": "stdout",
     "output_type": "stream",
     "text": [
      "0\n",
      "0\n",
      "2\n"
     ]
    }
   ],
   "source": [
    "print(getArtisticPhotographCount(5, 'APABA', 1, 2))\n",
    "print(getArtisticPhotographCount(5, 'APABA', 2, 3))\n",
    "print(getArtisticPhotographCount(8, '.PBAAP.B', 1, 3))"
   ]
  },
  {
   "cell_type": "code",
   "execution_count": 78,
   "id": "f0cc423e",
   "metadata": {},
   "outputs": [
    {
     "ename": "KeyboardInterrupt",
     "evalue": "",
     "output_type": "error",
     "traceback": [
      "\u001b[0;31m---------------------------------------------------------------------------\u001b[0m",
      "\u001b[0;31mKeyboardInterrupt\u001b[0m                         Traceback (most recent call last)",
      "Input \u001b[0;32mIn [78]\u001b[0m, in \u001b[0;36m<cell line: 5>\u001b[0;34m()\u001b[0m\n\u001b[1;32m      3\u001b[0m C \u001b[38;5;241m=\u001b[39m random\u001b[38;5;241m.\u001b[39mchoices(vals, k\u001b[38;5;241m=\u001b[39mN)\n\u001b[1;32m      4\u001b[0m tStart \u001b[38;5;241m=\u001b[39m time\u001b[38;5;241m.\u001b[39mtime()\n\u001b[0;32m----> 5\u001b[0m \u001b[38;5;28mprint\u001b[39m(\u001b[43mgetArtisticPhotographCount\u001b[49m\u001b[43m(\u001b[49m\u001b[43mN\u001b[49m\u001b[43m,\u001b[49m\u001b[43m \u001b[49m\u001b[43mC\u001b[49m\u001b[43m,\u001b[49m\u001b[43m \u001b[49m\u001b[38;5;241;43m500\u001b[39;49m\u001b[43m,\u001b[49m\u001b[43m \u001b[49m\u001b[38;5;241;43m1000\u001b[39;49m\u001b[43m)\u001b[49m)\n\u001b[1;32m      6\u001b[0m tTot \u001b[38;5;241m=\u001b[39m time\u001b[38;5;241m.\u001b[39mtime() \u001b[38;5;241m-\u001b[39m tStart\n\u001b[1;32m      7\u001b[0m \u001b[38;5;28mprint\u001b[39m(tTot)\n",
      "Input \u001b[0;32mIn [76]\u001b[0m, in \u001b[0;36mgetArtisticPhotographCount\u001b[0;34m(N, C, X, Y)\u001b[0m\n\u001b[1;32m     30\u001b[0m rightP \u001b[38;5;241m=\u001b[39m \u001b[38;5;241m0\u001b[39m\n\u001b[1;32m     31\u001b[0m \u001b[38;5;28;01mfor\u001b[39;00m p \u001b[38;5;129;01min\u001b[39;00m pSet:\n\u001b[0;32m---> 32\u001b[0m     \u001b[38;5;28;01mif\u001b[39;00m p \u001b[38;5;241m>\u001b[39m\u001b[38;5;241m=\u001b[39m a\u001b[38;5;241m-\u001b[39mY \u001b[38;5;129;01mand\u001b[39;00m p \u001b[38;5;241m<\u001b[39m\u001b[38;5;241m=\u001b[39m \u001b[43ma\u001b[49m\u001b[38;5;241;43m-\u001b[39;49m\u001b[43mX\u001b[49m:\n\u001b[1;32m     33\u001b[0m         leftP \u001b[38;5;241m+\u001b[39m\u001b[38;5;241m=\u001b[39m \u001b[38;5;241m1\u001b[39m\n\u001b[1;32m     34\u001b[0m     \u001b[38;5;28;01mif\u001b[39;00m p \u001b[38;5;241m>\u001b[39m\u001b[38;5;241m=\u001b[39m a\u001b[38;5;241m+\u001b[39mX \u001b[38;5;129;01mand\u001b[39;00m p \u001b[38;5;241m<\u001b[39m\u001b[38;5;241m=\u001b[39m a\u001b[38;5;241m+\u001b[39mY:\n",
      "\u001b[0;31mKeyboardInterrupt\u001b[0m: "
     ]
    }
   ],
   "source": [
    "vals = ['P','A','B','.']\n",
    "N = 300000\n",
    "C = random.choices(vals, k=N)\n",
    "tStart = time.time()\n",
    "print(getArtisticPhotographCount(N, C, 500, 1000))\n",
    "tTot = time.time() - tStart\n",
    "print(tTot)"
   ]
  },
  {
   "cell_type": "code",
   "execution_count": 79,
   "id": "6fa9587a",
   "metadata": {},
   "outputs": [],
   "source": [
    "C = random.choices(vals, k=100)\n",
    "pBool = [True if x=='P' else False for x in C]\n",
    "aBool = [True if x=='A' else False for x in C]\n",
    "bBool = [True if x=='B' else False for x in C]\n",
    "# numpy.where() returns indices for allowed P, A, B\n",
    "pVals = np.where(pBool)[0]\n",
    "aVals = np.where(aBool)[0]\n",
    "bVals = np.where(bBool)[0]"
   ]
  },
  {
   "cell_type": "code",
   "execution_count": 93,
   "id": "c2857eda",
   "metadata": {},
   "outputs": [
    {
     "ename": "IndexError",
     "evalue": "index 67 is out of bounds for axis 0 with size 27",
     "output_type": "error",
     "traceback": [
      "\u001b[0;31m---------------------------------------------------------------------------\u001b[0m",
      "\u001b[0;31mIndexError\u001b[0m                                Traceback (most recent call last)",
      "Input \u001b[0;32mIn [93]\u001b[0m, in \u001b[0;36m<cell line: 1>\u001b[0;34m()\u001b[0m\n\u001b[0;32m----> 1\u001b[0m pVals[\u001b[38;5;28mlen\u001b[39m(pVals)\u001b[38;5;241m-\u001b[39m\u001b[38;5;241m1\u001b[39m] \u001b[38;5;241m-\u001b[39m \u001b[43mpVals\u001b[49m\u001b[43m[\u001b[49m\u001b[38;5;241;43m67\u001b[39;49m\u001b[43m]\u001b[49m\n",
      "\u001b[0;31mIndexError\u001b[0m: index 67 is out of bounds for axis 0 with size 27"
     ]
    }
   ],
   "source": [
    "pVals[len(pVals)-1] - pVals[67]"
   ]
  },
  {
   "cell_type": "code",
   "execution_count": 81,
   "id": "2b54cbc0",
   "metadata": {},
   "outputs": [
    {
     "data": {
      "text/plain": [
       "[False,\n",
       " False,\n",
       " False,\n",
       " True,\n",
       " False,\n",
       " False,\n",
       " False,\n",
       " False,\n",
       " True,\n",
       " True,\n",
       " False,\n",
       " False,\n",
       " False,\n",
       " False,\n",
       " False,\n",
       " True,\n",
       " False,\n",
       " True,\n",
       " True,\n",
       " False,\n",
       " False,\n",
       " False,\n",
       " True,\n",
       " True,\n",
       " False,\n",
       " True,\n",
       " False,\n",
       " False,\n",
       " False,\n",
       " False,\n",
       " True,\n",
       " False,\n",
       " False,\n",
       " False,\n",
       " False,\n",
       " False,\n",
       " False,\n",
       " False,\n",
       " False,\n",
       " False,\n",
       " False,\n",
       " False,\n",
       " True,\n",
       " True,\n",
       " False,\n",
       " True,\n",
       " False,\n",
       " False,\n",
       " False,\n",
       " False,\n",
       " False,\n",
       " False,\n",
       " True,\n",
       " False,\n",
       " True,\n",
       " True,\n",
       " False,\n",
       " True,\n",
       " True,\n",
       " False,\n",
       " False,\n",
       " False,\n",
       " False,\n",
       " True,\n",
       " False,\n",
       " True,\n",
       " False,\n",
       " False,\n",
       " False,\n",
       " False,\n",
       " False,\n",
       " False,\n",
       " False,\n",
       " False,\n",
       " True,\n",
       " False,\n",
       " False,\n",
       " False,\n",
       " False,\n",
       " False,\n",
       " True,\n",
       " False,\n",
       " False,\n",
       " True,\n",
       " False,\n",
       " False,\n",
       " True,\n",
       " False,\n",
       " False,\n",
       " True,\n",
       " False,\n",
       " False,\n",
       " True,\n",
       " False,\n",
       " False,\n",
       " True,\n",
       " False,\n",
       " False,\n",
       " False,\n",
       " False]"
      ]
     },
     "execution_count": 81,
     "metadata": {},
     "output_type": "execute_result"
    }
   ],
   "source": [
    "pBool"
   ]
  },
  {
   "cell_type": "code",
   "execution_count": 94,
   "id": "a55f7f54",
   "metadata": {},
   "outputs": [],
   "source": [
    "pSums = np.cumsum(pBool)"
   ]
  },
  {
   "cell_type": "code",
   "execution_count": 95,
   "id": "9584416c",
   "metadata": {},
   "outputs": [
    {
     "data": {
      "text/plain": [
       "7"
      ]
     },
     "execution_count": 95,
     "metadata": {},
     "output_type": "execute_result"
    }
   ],
   "source": [
    "pSums[len(pSums)-1] - pSums[67]"
   ]
  },
  {
   "cell_type": "code",
   "execution_count": 96,
   "id": "aa2d7e0d",
   "metadata": {},
   "outputs": [
    {
     "data": {
      "text/plain": [
       "7"
      ]
     },
     "execution_count": 96,
     "metadata": {},
     "output_type": "execute_result"
    }
   ],
   "source": [
    "np.sum(pBool[67:-1])"
   ]
  },
  {
   "cell_type": "code",
   "execution_count": null,
   "id": "40676991",
   "metadata": {},
   "outputs": [],
   "source": []
  }
 ],
 "metadata": {
  "kernelspec": {
   "display_name": "Python 3 (ipykernel)",
   "language": "python",
   "name": "python3"
  },
  "language_info": {
   "codemirror_mode": {
    "name": "ipython",
    "version": 3
   },
   "file_extension": ".py",
   "mimetype": "text/x-python",
   "name": "python",
   "nbconvert_exporter": "python",
   "pygments_lexer": "ipython3",
   "version": "3.9.12"
  }
 },
 "nbformat": 4,
 "nbformat_minor": 5
}
